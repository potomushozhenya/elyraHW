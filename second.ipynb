{
 "cells": [
  {
   "cell_type": "code",
   "execution_count": 1,
   "id": "9fa94cba-f44c-424e-a8f1-5c4321a67de1",
   "metadata": {
    "execution": {
     "iopub.execute_input": "2023-11-18T11:08:19.050907Z",
     "iopub.status.busy": "2023-11-18T11:08:19.049903Z",
     "iopub.status.idle": "2023-11-18T11:08:20.089607Z",
     "shell.execute_reply": "2023-11-18T11:08:20.089607Z"
    },
    "papermill": {
     "duration": 1.042725,
     "end_time": "2023-11-18T11:08:20.090618",
     "exception": false,
     "start_time": "2023-11-18T11:08:19.047893",
     "status": "completed"
    },
    "tags": []
   },
   "outputs": [],
   "source": [
    "import pandas as pd\n",
    "train = pd.read_csv('data/trainProcessed.csv')\n",
    "test = pd.read_csv('data/testProcessed.csv')\n",
    "train = train.drop(['PassengerId'], axis=1)\n",
    "X_train = train.drop('Transported', axis=1)\n",
    "y_train = train['Transported']\n",
    "X_test = test.drop(\"PassengerId\", axis=1).copy()\n",
    "from sklearn.linear_model import LogisticRegression\n",
    "from sklearn.svm import SVC, LinearSVC\n",
    "from sklearn.neighbors import KNeighborsClassifier\n",
    "from sklearn.tree import DecisionTreeClassifier\n",
    "from sklearn.ensemble import RandomForestClassifier\n",
    "from sklearn.naive_bayes import GaussianNB\n",
    "from sklearn.linear_model import Perceptron\n",
    "from sklearn.linear_model import SGDClassifier"
   ]
  },
  {
   "cell_type": "code",
   "execution_count": 2,
   "id": "27205344-874a-4400-93b2-40262e300312",
   "metadata": {
    "execution": {
     "iopub.execute_input": "2023-11-18T11:08:20.094614Z",
     "iopub.status.busy": "2023-11-18T11:08:20.094614Z",
     "iopub.status.idle": "2023-11-18T11:08:33.509740Z",
     "shell.execute_reply": "2023-11-18T11:08:33.509740Z"
    },
    "papermill": {
     "duration": 13.419127,
     "end_time": "2023-11-18T11:08:33.511746",
     "exception": false,
     "start_time": "2023-11-18T11:08:20.092619",
     "status": "completed"
    },
    "tags": []
   },
   "outputs": [
    {
     "name": "stderr",
     "output_type": "stream",
     "text": [
      "C:\\Users\\zhest\\PycharmProjects\\classwork\\venv\\Lib\\site-packages\\sklearn\\linear_model\\_logistic.py:460: ConvergenceWarning: lbfgs failed to converge (status=1):\n",
      "STOP: TOTAL NO. of ITERATIONS REACHED LIMIT.\n",
      "\n",
      "Increase the number of iterations (max_iter) or scale the data as shown in:\n",
      "    https://scikit-learn.org/stable/modules/preprocessing.html\n",
      "Please also refer to the documentation for alternative solver options:\n",
      "    https://scikit-learn.org/stable/modules/linear_model.html#logistic-regression\n",
      "  n_iter_i = _check_optimize_result(\n"
     ]
    },
    {
     "name": "stderr",
     "output_type": "stream",
     "text": [
      "C:\\Users\\zhest\\PycharmProjects\\classwork\\venv\\Lib\\site-packages\\sklearn\\svm\\_classes.py:32: FutureWarning: The default value of `dual` will change from `True` to `'auto'` in 1.5. Set the value of `dual` explicitly to suppress the warning.\n",
      "  warnings.warn(\n"
     ]
    },
    {
     "name": "stderr",
     "output_type": "stream",
     "text": [
      "C:\\Users\\zhest\\PycharmProjects\\classwork\\venv\\Lib\\site-packages\\sklearn\\svm\\_base.py:1250: ConvergenceWarning: Liblinear failed to converge, increase the number of iterations.\n",
      "  warnings.warn(\n"
     ]
    },
    {
     "data": {
      "text/plain": [
       "9"
      ]
     },
     "execution_count": 2,
     "metadata": {},
     "output_type": "execute_result"
    }
   ],
   "source": [
    "file = open('result.txt', 'w')\n",
    "clf = LogisticRegression()\n",
    "clf.fit(X_train, y_train)\n",
    "y_pred_log_reg = clf.predict(X_test)\n",
    "acc_log_reg = round( clf.score(X_train, y_train) * 100, 2)\n",
    "file.write(\"Logistic regression \"+str(acc_log_reg) +'\\n')\n",
    "clf = SVC()\n",
    "clf.fit(X_train, y_train)\n",
    "y_pred_svc = clf.predict(X_test)\n",
    "acc_svc = round(clf.score(X_train, y_train) * 100, 2)\n",
    "file.write(\"SVM \"+str(acc_svc)+'\\n')\n",
    "clf = LinearSVC()\n",
    "clf.fit(X_train, y_train)\n",
    "y_pred_linear_svc = clf.predict(X_test)\n",
    "acc_linear_svc = round(clf.score(X_train, y_train) * 100, 2)\n",
    "file.write(\"Linear SVM \"+ str(acc_linear_svc)+'\\n')\n",
    "clf = KNeighborsClassifier(n_neighbors = 3)\n",
    "clf.fit(X_train, y_train)\n",
    "y_pred_knn = clf.predict(X_test)\n",
    "acc_knn = round(clf.score(X_train, y_train) * 100, 2)\n",
    "file.write(\"k-NN \"+ str(acc_knn)+'\\n')\n",
    "clf = DecisionTreeClassifier()\n",
    "clf.fit(X_train, y_train)\n",
    "y_pred_decision_tree = clf.predict(X_test)\n",
    "acc_decision_tree = round(clf.score(X_train, y_train) * 100, 2)\n",
    "file.write(\"Decision tree \"+str(acc_decision_tree)+'\\n')\n",
    "clf = RandomForestClassifier(n_estimators=100)\n",
    "clf.fit(X_train, y_train)\n",
    "y_pred_random_forest = clf.predict(X_test)\n",
    "acc_random_forest = round(clf.score(X_train, y_train) * 100, 2)\n",
    "file.write(\"Random forest \"+ str(acc_random_forest)+'\\n')\n",
    "clf = GaussianNB()\n",
    "clf.fit(X_train, y_train)\n",
    "y_pred_gnb = clf.predict(X_test)\n",
    "acc_gnb = round(clf.score(X_train, y_train) * 100, 2)\n",
    "file.write(\"GaussianNB \"+ str(acc_gnb)+'\\n')\n",
    "clf = SGDClassifier(max_iter=5, tol=None)\n",
    "clf.fit(X_train, y_train)\n",
    "y_pred_sgd = clf.predict(X_test)\n",
    "acc_sgd = round(clf.score(X_train, y_train) * 100, 2)\n",
    "file.write(\"SGD \"+str(acc_sgd))"
   ]
  }
 ],
 "metadata": {
  "kernelspec": {
   "display_name": "Python 3 (ipykernel)",
   "language": "python",
   "name": "python3"
  },
  "language_info": {
   "codemirror_mode": {
    "name": "ipython",
    "version": 3
   },
   "file_extension": ".py",
   "mimetype": "text/x-python",
   "name": "python",
   "nbconvert_exporter": "python",
   "pygments_lexer": "ipython3",
   "version": "3.11.5"
  },
  "papermill": {
   "default_parameters": {},
   "duration": 16.069975,
   "end_time": "2023-11-18T11:08:33.854259",
   "environment_variables": {},
   "exception": null,
   "input_path": "C:\\Users\\zhest\\PycharmProjects\\classwork\\second.ipynb",
   "output_path": "C:\\Users\\zhest\\PycharmProjects\\classwork\\second.ipynb",
   "parameters": {},
   "start_time": "2023-11-18T11:08:17.784284",
   "version": "2.5.0"
  }
 },
 "nbformat": 4,
 "nbformat_minor": 5
}