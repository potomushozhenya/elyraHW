{
 "cells": [
  {
   "cell_type": "code",
   "execution_count": 1,
   "id": "978feb82",
   "metadata": {
    "_cell_guid": "b1076dfc-b9ad-4769-8c92-a6c4dae69d19",
    "_uuid": "8f2839f25d086af736a60e9eeb907d3b93b6e0e5",
    "execution": {
     "iopub.execute_input": "2023-11-18T11:08:13.860315Z",
     "iopub.status.busy": "2023-11-18T11:08:13.859318Z",
     "iopub.status.idle": "2023-11-18T11:08:15.222952Z",
     "shell.execute_reply": "2023-11-18T11:08:15.222952Z"
    },
    "papermill": {
     "duration": 1.372653,
     "end_time": "2023-11-18T11:08:15.223954",
     "exception": false,
     "start_time": "2023-11-18T11:08:13.851301",
     "status": "completed"
    },
    "tags": []
   },
   "outputs": [],
   "source": [
    "import pandas as pd\n",
    "import numpy as np\n",
    "import matplotlib.pyplot as plt\n",
    "%matplotlib inline\n",
    "import seaborn as sns\n",
    "sns.set()\n",
    "train = pd.read_csv('data/train.csv')\n",
    "test = pd.read_csv('data/test.csv')\n",
    "train_test_data = [train, test]"
   ]
  },
  {
   "cell_type": "markdown",
   "id": "d0e51bca",
   "metadata": {
    "papermill": {
     "duration": 0.007011,
     "end_time": "2023-11-18T11:08:15.237966",
     "exception": false,
     "start_time": "2023-11-18T11:08:15.230955",
     "status": "completed"
    },
    "tags": []
   },
   "source": [
    "**Изучаем датасет**"
   ]
  },
  {
   "cell_type": "code",
   "execution_count": 2,
   "id": "bb775750",
   "metadata": {
    "execution": {
     "iopub.execute_input": "2023-11-18T11:08:15.252973Z",
     "iopub.status.busy": "2023-11-18T11:08:15.252973Z",
     "iopub.status.idle": "2023-11-18T11:08:15.285083Z",
     "shell.execute_reply": "2023-11-18T11:08:15.285083Z"
    },
    "papermill": {
     "duration": 0.041129,
     "end_time": "2023-11-18T11:08:15.286097",
     "exception": false,
     "start_time": "2023-11-18T11:08:15.244968",
     "status": "completed"
    },
    "tags": []
   },
   "outputs": [
    {
     "name": "stdout",
     "output_type": "stream",
     "text": [
      "Train shape (8693, 14)\n",
      "   PassengerId HomePlanet CryoSleep  Cabin    Destination   Age    VIP  \\\n",
      "0      0001_01     Europa     False  B/0/P    TRAPPIST-1e  39.0  False   \n",
      "1      0002_01      Earth     False  F/0/S    TRAPPIST-1e  24.0  False   \n",
      "2      0003_01     Europa     False  A/0/S    TRAPPIST-1e  58.0   True   \n",
      "3      0003_02     Europa     False  A/0/S    TRAPPIST-1e  33.0  False   \n",
      "4      0004_01      Earth     False  F/1/S    TRAPPIST-1e  16.0  False   \n",
      "5      0005_01      Earth     False  F/0/P  PSO J318.5-22  44.0  False   \n",
      "6      0006_01      Earth     False  F/2/S    TRAPPIST-1e  26.0  False   \n",
      "7      0006_02      Earth      True  G/0/S    TRAPPIST-1e  28.0  False   \n",
      "8      0007_01      Earth     False  F/3/S    TRAPPIST-1e  35.0  False   \n",
      "9      0008_01     Europa      True  B/1/P    55 Cancri e  14.0  False   \n",
      "10     0008_02     Europa      True  B/1/P    TRAPPIST-1e  34.0  False   \n",
      "11     0008_03     Europa     False  B/1/P    55 Cancri e  45.0  False   \n",
      "12     0009_01       Mars     False  F/1/P    TRAPPIST-1e  32.0  False   \n",
      "13     0010_01      Earth     False  G/1/S    TRAPPIST-1e  48.0  False   \n",
      "14     0011_01      Earth     False  F/2/P    TRAPPIST-1e  28.0  False   \n",
      "\n",
      "    RoomService  FoodCourt  ShoppingMall     Spa  VRDeck                Name  \\\n",
      "0           0.0        0.0           0.0     0.0     0.0     Maham Ofracculy   \n",
      "1         109.0        9.0          25.0   549.0    44.0        Juanna Vines   \n",
      "2          43.0     3576.0           0.0  6715.0    49.0       Altark Susent   \n",
      "3           0.0     1283.0         371.0  3329.0   193.0        Solam Susent   \n",
      "4         303.0       70.0         151.0   565.0     2.0   Willy Santantines   \n",
      "5           0.0      483.0           0.0   291.0     0.0   Sandie Hinetthews   \n",
      "6          42.0     1539.0           3.0     0.0     0.0  Billex Jacostaffey   \n",
      "7           0.0        0.0           0.0     0.0     NaN  Candra Jacostaffey   \n",
      "8           0.0      785.0          17.0   216.0     0.0       Andona Beston   \n",
      "9           0.0        0.0           0.0     0.0     0.0      Erraiam Flatic   \n",
      "10          0.0        0.0           NaN     0.0     0.0      Altardr Flatic   \n",
      "11         39.0     7295.0         589.0   110.0   124.0       Wezena Flatic   \n",
      "12         73.0        0.0        1123.0     0.0   113.0        Berers Barne   \n",
      "13        719.0        1.0          65.0     0.0    24.0      Reney Baketton   \n",
      "14          8.0      974.0          12.0     2.0     7.0     Elle Bertsontry   \n",
      "\n",
      "    Transported  \n",
      "0         False  \n",
      "1          True  \n",
      "2         False  \n",
      "3         False  \n",
      "4          True  \n",
      "5          True  \n",
      "6          True  \n",
      "7          True  \n",
      "8          True  \n",
      "9          True  \n",
      "10         True  \n",
      "11         True  \n",
      "12         True  \n",
      "13        False  \n",
      "14         True  \n",
      "               Age   RoomService     FoodCourt  ShoppingMall           Spa  \\\n",
      "count  8514.000000   8512.000000   8510.000000   8485.000000   8510.000000   \n",
      "mean     28.827930    224.687617    458.077203    173.729169    311.138778   \n",
      "std      14.489021    666.717663   1611.489240    604.696458   1136.705535   \n",
      "min       0.000000      0.000000      0.000000      0.000000      0.000000   \n",
      "25%      19.000000      0.000000      0.000000      0.000000      0.000000   \n",
      "50%      27.000000      0.000000      0.000000      0.000000      0.000000   \n",
      "75%      38.000000     47.000000     76.000000     27.000000     59.000000   \n",
      "max      79.000000  14327.000000  29813.000000  23492.000000  22408.000000   \n",
      "\n",
      "             VRDeck  \n",
      "count   8505.000000  \n",
      "mean     304.854791  \n",
      "std     1145.717189  \n",
      "min        0.000000  \n",
      "25%        0.000000  \n",
      "50%        0.000000  \n",
      "75%       46.000000  \n",
      "max    24133.000000  \n",
      "       PassengerId HomePlanet CryoSleep    Cabin  Destination    VIP  \\\n",
      "count         8693       8492      8476     8494         8511   8490   \n",
      "unique        8693          3         2     6560            3      2   \n",
      "top        0001_01      Earth     False  G/734/S  TRAPPIST-1e  False   \n",
      "freq             1       4602      5439        8         5915   8291   \n",
      "\n",
      "                  Name  \n",
      "count             8493  \n",
      "unique            8473  \n",
      "top     Gollux Reedall  \n",
      "freq                 2  \n"
     ]
    }
   ],
   "source": [
    "print(\"Train shape \"+ str(train.shape))\n",
    "print(train.head(15))\n",
    "print(train.describe())\n",
    "print(train.describe(include=['O']))"
   ]
  },
  {
   "cell_type": "markdown",
   "id": "25ac8fd3",
   "metadata": {
    "papermill": {
     "duration": 0.007124,
     "end_time": "2023-11-18T11:08:15.300221",
     "exception": false,
     "start_time": "2023-11-18T11:08:15.293097",
     "status": "completed"
    },
    "tags": []
   },
   "source": [
    "**HomePlanet vs. Transported**"
   ]
  },
  {
   "cell_type": "code",
   "execution_count": 3,
   "id": "6c2cc6cd",
   "metadata": {
    "execution": {
     "iopub.execute_input": "2023-11-18T11:08:15.315103Z",
     "iopub.status.busy": "2023-11-18T11:08:15.314102Z",
     "iopub.status.idle": "2023-11-18T11:08:15.326785Z",
     "shell.execute_reply": "2023-11-18T11:08:15.326785Z"
    },
    "papermill": {
     "duration": 0.020705,
     "end_time": "2023-11-18T11:08:15.327795",
     "exception": false,
     "start_time": "2023-11-18T11:08:15.307090",
     "status": "completed"
    },
    "tags": []
   },
   "outputs": [
    {
     "name": "stdout",
     "output_type": "stream",
     "text": [
      "HomePlanet  Transported\n",
      "Earth       False          2651\n",
      "            True           1951\n",
      "Europa      True           1404\n",
      "            False           727\n",
      "Mars        True            920\n",
      "            False           839\n",
      "Name: count, dtype: int64\n"
     ]
    },
    {
     "data": {
      "text/html": [
       "<div>\n",
       "<style scoped>\n",
       "    .dataframe tbody tr th:only-of-type {\n",
       "        vertical-align: middle;\n",
       "    }\n",
       "\n",
       "    .dataframe tbody tr th {\n",
       "        vertical-align: top;\n",
       "    }\n",
       "\n",
       "    .dataframe thead th {\n",
       "        text-align: right;\n",
       "    }\n",
       "</style>\n",
       "<table border=\"1\" class=\"dataframe\">\n",
       "  <thead>\n",
       "    <tr style=\"text-align: right;\">\n",
       "      <th></th>\n",
       "      <th>HomePlanet</th>\n",
       "      <th>Transported</th>\n",
       "    </tr>\n",
       "  </thead>\n",
       "  <tbody>\n",
       "    <tr>\n",
       "      <th>0</th>\n",
       "      <td>Earth</td>\n",
       "      <td>0.423946</td>\n",
       "    </tr>\n",
       "    <tr>\n",
       "      <th>1</th>\n",
       "      <td>Europa</td>\n",
       "      <td>0.658846</td>\n",
       "    </tr>\n",
       "    <tr>\n",
       "      <th>2</th>\n",
       "      <td>Mars</td>\n",
       "      <td>0.523024</td>\n",
       "    </tr>\n",
       "  </tbody>\n",
       "</table>\n",
       "</div>"
      ],
      "text/plain": [
       "  HomePlanet  Transported\n",
       "0      Earth     0.423946\n",
       "1     Europa     0.658846\n",
       "2       Mars     0.523024"
      ]
     },
     "execution_count": 3,
     "metadata": {},
     "output_type": "execute_result"
    }
   ],
   "source": [
    "print(train.groupby('HomePlanet').Transported.value_counts())\n",
    "train[['HomePlanet', 'Transported']].groupby('HomePlanet', as_index = False).mean()"
   ]
  },
  {
   "cell_type": "markdown",
   "id": "765be8b6",
   "metadata": {
    "papermill": {
     "duration": 0.007001,
     "end_time": "2023-11-18T11:08:15.342790",
     "exception": false,
     "start_time": "2023-11-18T11:08:15.335789",
     "status": "completed"
    },
    "tags": []
   },
   "source": [
    "Добавим mapping и заполним пустые значения"
   ]
  },
  {
   "cell_type": "code",
   "execution_count": 4,
   "id": "40d8af09",
   "metadata": {
    "execution": {
     "iopub.execute_input": "2023-11-18T11:08:15.361795Z",
     "iopub.status.busy": "2023-11-18T11:08:15.361795Z",
     "iopub.status.idle": "2023-11-18T11:08:15.365633Z",
     "shell.execute_reply": "2023-11-18T11:08:15.365633Z"
    },
    "papermill": {
     "duration": 0.017836,
     "end_time": "2023-11-18T11:08:15.367629",
     "exception": false,
     "start_time": "2023-11-18T11:08:15.349793",
     "status": "completed"
    },
    "tags": []
   },
   "outputs": [
    {
     "name": "stdout",
     "output_type": "stream",
     "text": [
      "HomePlanet\n",
      "Earth     4602\n",
      "Europa    2131\n",
      "Mars      1759\n",
      "Name: count, dtype: int64\n"
     ]
    }
   ],
   "source": [
    "print(train.HomePlanet.value_counts())"
   ]
  },
  {
   "cell_type": "code",
   "execution_count": 5,
   "id": "600db71d",
   "metadata": {
    "execution": {
     "iopub.execute_input": "2023-11-18T11:08:15.384632Z",
     "iopub.status.busy": "2023-11-18T11:08:15.384632Z",
     "iopub.status.idle": "2023-11-18T11:08:15.388463Z",
     "shell.execute_reply": "2023-11-18T11:08:15.388463Z"
    },
    "papermill": {
     "duration": 0.013835,
     "end_time": "2023-11-18T11:08:15.389465",
     "exception": false,
     "start_time": "2023-11-18T11:08:15.375630",
     "status": "completed"
    },
    "tags": []
   },
   "outputs": [],
   "source": [
    "for dataset in train_test_data:\n",
    "    dataset['HomePlanet'] = dataset['HomePlanet'].fillna('Earth')"
   ]
  },
  {
   "cell_type": "code",
   "execution_count": 6,
   "id": "a0e6c8e4",
   "metadata": {
    "execution": {
     "iopub.execute_input": "2023-11-18T11:08:15.406470Z",
     "iopub.status.busy": "2023-11-18T11:08:15.405470Z",
     "iopub.status.idle": "2023-11-18T11:08:15.410685Z",
     "shell.execute_reply": "2023-11-18T11:08:15.410685Z"
    },
    "papermill": {
     "duration": 0.01422,
     "end_time": "2023-11-18T11:08:15.411687",
     "exception": false,
     "start_time": "2023-11-18T11:08:15.397467",
     "status": "completed"
    },
    "tags": []
   },
   "outputs": [],
   "source": [
    "for dataset in train_test_data:\n",
    "    dataset['HomePlanet'] = dataset['HomePlanet'].map( {'Earth': 0, 'Europa': 1, 'Mars': 2} ).astype(int)"
   ]
  },
  {
   "cell_type": "code",
   "execution_count": 7,
   "id": "791b62f5",
   "metadata": {
    "execution": {
     "iopub.execute_input": "2023-11-18T11:08:15.427692Z",
     "iopub.status.busy": "2023-11-18T11:08:15.427692Z",
     "iopub.status.idle": "2023-11-18T11:08:15.433697Z",
     "shell.execute_reply": "2023-11-18T11:08:15.433697Z"
    },
    "papermill": {
     "duration": 0.015013,
     "end_time": "2023-11-18T11:08:15.434702",
     "exception": false,
     "start_time": "2023-11-18T11:08:15.419689",
     "status": "completed"
    },
    "tags": []
   },
   "outputs": [
    {
     "name": "stdout",
     "output_type": "stream",
     "text": [
      "  PassengerId  HomePlanet CryoSleep  Cabin  Destination   Age    VIP  \\\n",
      "0     0001_01           1     False  B/0/P  TRAPPIST-1e  39.0  False   \n",
      "1     0002_01           0     False  F/0/S  TRAPPIST-1e  24.0  False   \n",
      "2     0003_01           1     False  A/0/S  TRAPPIST-1e  58.0   True   \n",
      "3     0003_02           1     False  A/0/S  TRAPPIST-1e  33.0  False   \n",
      "4     0004_01           0     False  F/1/S  TRAPPIST-1e  16.0  False   \n",
      "\n",
      "   RoomService  FoodCourt  ShoppingMall     Spa  VRDeck               Name  \\\n",
      "0          0.0        0.0           0.0     0.0     0.0    Maham Ofracculy   \n",
      "1        109.0        9.0          25.0   549.0    44.0       Juanna Vines   \n",
      "2         43.0     3576.0           0.0  6715.0    49.0      Altark Susent   \n",
      "3          0.0     1283.0         371.0  3329.0   193.0       Solam Susent   \n",
      "4        303.0       70.0         151.0   565.0     2.0  Willy Santantines   \n",
      "\n",
      "   Transported  \n",
      "0        False  \n",
      "1         True  \n",
      "2        False  \n",
      "3        False  \n",
      "4         True  \n"
     ]
    }
   ],
   "source": [
    "print(train.head())"
   ]
  },
  {
   "cell_type": "markdown",
   "id": "69f5ba4e",
   "metadata": {
    "papermill": {
     "duration": 0.007002,
     "end_time": "2023-11-18T11:08:15.449714",
     "exception": false,
     "start_time": "2023-11-18T11:08:15.442712",
     "status": "completed"
    },
    "tags": []
   },
   "source": [
    "**CryoSleep vs. Transported**"
   ]
  },
  {
   "cell_type": "code",
   "execution_count": 8,
   "id": "e94668c7",
   "metadata": {
    "execution": {
     "iopub.execute_input": "2023-11-18T11:08:15.465717Z",
     "iopub.status.busy": "2023-11-18T11:08:15.464717Z",
     "iopub.status.idle": "2023-11-18T11:08:15.475927Z",
     "shell.execute_reply": "2023-11-18T11:08:15.475927Z"
    },
    "papermill": {
     "duration": 0.020215,
     "end_time": "2023-11-18T11:08:15.476930",
     "exception": false,
     "start_time": "2023-11-18T11:08:15.456715",
     "status": "completed"
    },
    "tags": []
   },
   "outputs": [
    {
     "name": "stdout",
     "output_type": "stream",
     "text": [
      "CryoSleep  Transported\n",
      "False      False          3650\n",
      "           True           1789\n",
      "True       True           2483\n",
      "           False           554\n",
      "Name: count, dtype: int64\n"
     ]
    },
    {
     "data": {
      "text/html": [
       "<div>\n",
       "<style scoped>\n",
       "    .dataframe tbody tr th:only-of-type {\n",
       "        vertical-align: middle;\n",
       "    }\n",
       "\n",
       "    .dataframe tbody tr th {\n",
       "        vertical-align: top;\n",
       "    }\n",
       "\n",
       "    .dataframe thead th {\n",
       "        text-align: right;\n",
       "    }\n",
       "</style>\n",
       "<table border=\"1\" class=\"dataframe\">\n",
       "  <thead>\n",
       "    <tr style=\"text-align: right;\">\n",
       "      <th></th>\n",
       "      <th>CryoSleep</th>\n",
       "      <th>Transported</th>\n",
       "    </tr>\n",
       "  </thead>\n",
       "  <tbody>\n",
       "    <tr>\n",
       "      <th>0</th>\n",
       "      <td>False</td>\n",
       "      <td>0.328921</td>\n",
       "    </tr>\n",
       "    <tr>\n",
       "      <th>1</th>\n",
       "      <td>True</td>\n",
       "      <td>0.817583</td>\n",
       "    </tr>\n",
       "  </tbody>\n",
       "</table>\n",
       "</div>"
      ],
      "text/plain": [
       "  CryoSleep  Transported\n",
       "0     False     0.328921\n",
       "1      True     0.817583"
      ]
     },
     "execution_count": 8,
     "metadata": {},
     "output_type": "execute_result"
    }
   ],
   "source": [
    "print(train.groupby('CryoSleep').Transported.value_counts())\n",
    "train[['CryoSleep', 'Transported']].groupby('CryoSleep', as_index = False).mean()"
   ]
  },
  {
   "cell_type": "markdown",
   "id": "8238c1d6",
   "metadata": {
    "papermill": {
     "duration": 0.007993,
     "end_time": "2023-11-18T11:08:15.491933",
     "exception": false,
     "start_time": "2023-11-18T11:08:15.483940",
     "status": "completed"
    },
    "tags": []
   },
   "source": [
    "Добавим mapping и заполним пустые значения"
   ]
  },
  {
   "cell_type": "code",
   "execution_count": 9,
   "id": "e397415b",
   "metadata": {
    "execution": {
     "iopub.execute_input": "2023-11-18T11:08:15.507946Z",
     "iopub.status.busy": "2023-11-18T11:08:15.507946Z",
     "iopub.status.idle": "2023-11-18T11:08:15.514346Z",
     "shell.execute_reply": "2023-11-18T11:08:15.514346Z"
    },
    "papermill": {
     "duration": 0.017407,
     "end_time": "2023-11-18T11:08:15.516351",
     "exception": false,
     "start_time": "2023-11-18T11:08:15.498944",
     "status": "completed"
    },
    "tags": []
   },
   "outputs": [
    {
     "name": "stdout",
     "output_type": "stream",
     "text": [
      "CryoSleep\n",
      "False    5439\n",
      "True     3037\n",
      "Name: count, dtype: int64\n"
     ]
    }
   ],
   "source": [
    "print(train.CryoSleep.value_counts())\n",
    "for dataset in train_test_data:\n",
    "    dataset['CryoSleep']=dataset['CryoSleep'].fillna(False)"
   ]
  },
  {
   "cell_type": "code",
   "execution_count": 10,
   "id": "24a5e5e1",
   "metadata": {
    "execution": {
     "iopub.execute_input": "2023-11-18T11:08:15.532363Z",
     "iopub.status.busy": "2023-11-18T11:08:15.532363Z",
     "iopub.status.idle": "2023-11-18T11:08:15.546879Z",
     "shell.execute_reply": "2023-11-18T11:08:15.546879Z"
    },
    "papermill": {
     "duration": 0.02453,
     "end_time": "2023-11-18T11:08:15.547881",
     "exception": false,
     "start_time": "2023-11-18T11:08:15.523351",
     "status": "completed"
    },
    "tags": []
   },
   "outputs": [
    {
     "name": "stdout",
     "output_type": "stream",
     "text": [
      "       PassengerId    Cabin  Destination    VIP            Name\n",
      "count         8693     8494         8511   8490            8493\n",
      "unique        8693     6560            3      2            8473\n",
      "top        0001_01  G/734/S  TRAPPIST-1e  False  Gollux Reedall\n",
      "freq             1        8         5915   8291               2\n"
     ]
    }
   ],
   "source": [
    "print(train.describe(include=['O']))"
   ]
  },
  {
   "cell_type": "code",
   "execution_count": 11,
   "id": "b190a00c",
   "metadata": {
    "execution": {
     "iopub.execute_input": "2023-11-18T11:08:15.564895Z",
     "iopub.status.busy": "2023-11-18T11:08:15.563884Z",
     "iopub.status.idle": "2023-11-18T11:08:15.571593Z",
     "shell.execute_reply": "2023-11-18T11:08:15.571593Z"
    },
    "papermill": {
     "duration": 0.016719,
     "end_time": "2023-11-18T11:08:15.572604",
     "exception": false,
     "start_time": "2023-11-18T11:08:15.555885",
     "status": "completed"
    },
    "tags": []
   },
   "outputs": [
    {
     "name": "stdout",
     "output_type": "stream",
     "text": [
      "  PassengerId  HomePlanet  CryoSleep  Cabin    Destination   Age    VIP  \\\n",
      "0     0001_01           1      False  B/0/P    TRAPPIST-1e  39.0  False   \n",
      "1     0002_01           0      False  F/0/S    TRAPPIST-1e  24.0  False   \n",
      "2     0003_01           1      False  A/0/S    TRAPPIST-1e  58.0   True   \n",
      "3     0003_02           1      False  A/0/S    TRAPPIST-1e  33.0  False   \n",
      "4     0004_01           0      False  F/1/S    TRAPPIST-1e  16.0  False   \n",
      "5     0005_01           0      False  F/0/P  PSO J318.5-22  44.0  False   \n",
      "6     0006_01           0      False  F/2/S    TRAPPIST-1e  26.0  False   \n",
      "7     0006_02           0       True  G/0/S    TRAPPIST-1e  28.0  False   \n",
      "8     0007_01           0      False  F/3/S    TRAPPIST-1e  35.0  False   \n",
      "9     0008_01           1       True  B/1/P    55 Cancri e  14.0  False   \n",
      "\n",
      "   RoomService  FoodCourt  ShoppingMall     Spa  VRDeck                Name  \\\n",
      "0          0.0        0.0           0.0     0.0     0.0     Maham Ofracculy   \n",
      "1        109.0        9.0          25.0   549.0    44.0        Juanna Vines   \n",
      "2         43.0     3576.0           0.0  6715.0    49.0       Altark Susent   \n",
      "3          0.0     1283.0         371.0  3329.0   193.0        Solam Susent   \n",
      "4        303.0       70.0         151.0   565.0     2.0   Willy Santantines   \n",
      "5          0.0      483.0           0.0   291.0     0.0   Sandie Hinetthews   \n",
      "6         42.0     1539.0           3.0     0.0     0.0  Billex Jacostaffey   \n",
      "7          0.0        0.0           0.0     0.0     NaN  Candra Jacostaffey   \n",
      "8          0.0      785.0          17.0   216.0     0.0       Andona Beston   \n",
      "9          0.0        0.0           0.0     0.0     0.0      Erraiam Flatic   \n",
      "\n",
      "   Transported  \n",
      "0        False  \n",
      "1         True  \n",
      "2        False  \n",
      "3        False  \n",
      "4         True  \n",
      "5         True  \n",
      "6         True  \n",
      "7         True  \n",
      "8         True  \n",
      "9         True  \n"
     ]
    }
   ],
   "source": [
    "print(train.head(10))"
   ]
  },
  {
   "cell_type": "markdown",
   "id": "106fae16",
   "metadata": {
    "papermill": {
     "duration": 0.007008,
     "end_time": "2023-11-18T11:08:15.587607",
     "exception": false,
     "start_time": "2023-11-18T11:08:15.580599",
     "status": "completed"
    },
    "tags": []
   },
   "source": [
    "**Destination vs. Transported**"
   ]
  },
  {
   "cell_type": "code",
   "execution_count": 12,
   "id": "617d2349",
   "metadata": {
    "execution": {
     "iopub.execute_input": "2023-11-18T11:08:15.605615Z",
     "iopub.status.busy": "2023-11-18T11:08:15.604614Z",
     "iopub.status.idle": "2023-11-18T11:08:15.614763Z",
     "shell.execute_reply": "2023-11-18T11:08:15.614763Z"
    },
    "papermill": {
     "duration": 0.029153,
     "end_time": "2023-11-18T11:08:15.624767",
     "exception": false,
     "start_time": "2023-11-18T11:08:15.595614",
     "status": "completed"
    },
    "tags": []
   },
   "outputs": [
    {
     "name": "stdout",
     "output_type": "stream",
     "text": [
      "Destination    Transported\n",
      "55 Cancri e    True           1098\n",
      "               False           702\n",
      "PSO J318.5-22  True            401\n",
      "               False           395\n",
      "TRAPPIST-1e    False          3128\n",
      "               True           2787\n",
      "Name: count, dtype: int64\n"
     ]
    },
    {
     "data": {
      "text/html": [
       "<div>\n",
       "<style scoped>\n",
       "    .dataframe tbody tr th:only-of-type {\n",
       "        vertical-align: middle;\n",
       "    }\n",
       "\n",
       "    .dataframe tbody tr th {\n",
       "        vertical-align: top;\n",
       "    }\n",
       "\n",
       "    .dataframe thead th {\n",
       "        text-align: right;\n",
       "    }\n",
       "</style>\n",
       "<table border=\"1\" class=\"dataframe\">\n",
       "  <thead>\n",
       "    <tr style=\"text-align: right;\">\n",
       "      <th></th>\n",
       "      <th>Destination</th>\n",
       "      <th>Transported</th>\n",
       "    </tr>\n",
       "  </thead>\n",
       "  <tbody>\n",
       "    <tr>\n",
       "      <th>0</th>\n",
       "      <td>55 Cancri e</td>\n",
       "      <td>0.610000</td>\n",
       "    </tr>\n",
       "    <tr>\n",
       "      <th>1</th>\n",
       "      <td>PSO J318.5-22</td>\n",
       "      <td>0.503769</td>\n",
       "    </tr>\n",
       "    <tr>\n",
       "      <th>2</th>\n",
       "      <td>TRAPPIST-1e</td>\n",
       "      <td>0.471175</td>\n",
       "    </tr>\n",
       "  </tbody>\n",
       "</table>\n",
       "</div>"
      ],
      "text/plain": [
       "     Destination  Transported\n",
       "0    55 Cancri e     0.610000\n",
       "1  PSO J318.5-22     0.503769\n",
       "2    TRAPPIST-1e     0.471175"
      ]
     },
     "execution_count": 12,
     "metadata": {},
     "output_type": "execute_result"
    }
   ],
   "source": [
    "print(train.groupby('Destination').Transported.value_counts())\n",
    "train[['Destination', 'Transported']].groupby('Destination', as_index = False).mean()"
   ]
  },
  {
   "cell_type": "markdown",
   "id": "2d149d08",
   "metadata": {
    "papermill": {
     "duration": 0.008004,
     "end_time": "2023-11-18T11:08:15.640781",
     "exception": false,
     "start_time": "2023-11-18T11:08:15.632777",
     "status": "completed"
    },
    "tags": []
   },
   "source": [
    "Добавим mapping и заполним пустые значения"
   ]
  },
  {
   "cell_type": "code",
   "execution_count": 13,
   "id": "ea34d208",
   "metadata": {
    "execution": {
     "iopub.execute_input": "2023-11-18T11:08:15.657787Z",
     "iopub.status.busy": "2023-11-18T11:08:15.656776Z",
     "iopub.status.idle": "2023-11-18T11:08:15.661193Z",
     "shell.execute_reply": "2023-11-18T11:08:15.661193Z"
    },
    "papermill": {
     "duration": 0.013406,
     "end_time": "2023-11-18T11:08:15.662188",
     "exception": false,
     "start_time": "2023-11-18T11:08:15.648782",
     "status": "completed"
    },
    "tags": []
   },
   "outputs": [
    {
     "name": "stdout",
     "output_type": "stream",
     "text": [
      "Destination\n",
      "TRAPPIST-1e      5915\n",
      "55 Cancri e      1800\n",
      "PSO J318.5-22     796\n",
      "Name: count, dtype: int64\n"
     ]
    }
   ],
   "source": [
    "print(train.Destination.value_counts())"
   ]
  },
  {
   "cell_type": "code",
   "execution_count": 14,
   "id": "bc28aa95",
   "metadata": {
    "execution": {
     "iopub.execute_input": "2023-11-18T11:08:15.679199Z",
     "iopub.status.busy": "2023-11-18T11:08:15.679199Z",
     "iopub.status.idle": "2023-11-18T11:08:15.685040Z",
     "shell.execute_reply": "2023-11-18T11:08:15.685040Z"
    },
    "papermill": {
     "duration": 0.015843,
     "end_time": "2023-11-18T11:08:15.686042",
     "exception": false,
     "start_time": "2023-11-18T11:08:15.670199",
     "status": "completed"
    },
    "tags": []
   },
   "outputs": [],
   "source": [
    "for dataset in train_test_data: \n",
    "    dataset['Destination'] = dataset['Destination'].fillna('TRAPPIST-1e')\n",
    "for dataset in train_test_data:\n",
    "    dataset['Destination'] = dataset['Destination'].map( {'55 Cancri e': 0, 'PSO J318.5-22': 1, 'TRAPPIST-1e': 2} ).astype(int)"
   ]
  },
  {
   "cell_type": "code",
   "execution_count": 15,
   "id": "59cfd8f5",
   "metadata": {
    "execution": {
     "iopub.execute_input": "2023-11-18T11:08:15.703047Z",
     "iopub.status.busy": "2023-11-18T11:08:15.703047Z",
     "iopub.status.idle": "2023-11-18T11:08:15.717343Z",
     "shell.execute_reply": "2023-11-18T11:08:15.717343Z"
    },
    "papermill": {
     "duration": 0.024291,
     "end_time": "2023-11-18T11:08:15.718345",
     "exception": false,
     "start_time": "2023-11-18T11:08:15.694054",
     "status": "completed"
    },
    "tags": []
   },
   "outputs": [
    {
     "name": "stdout",
     "output_type": "stream",
     "text": [
      "        HomePlanet  Destination          Age   RoomService     FoodCourt  \\\n",
      "count  8693.000000  8693.000000  8514.000000   8512.000000   8510.000000   \n",
      "mean      0.649833     1.494306    28.827930    224.687617    458.077203   \n",
      "std       0.795183     0.814966    14.489021    666.717663   1611.489240   \n",
      "min       0.000000     0.000000     0.000000      0.000000      0.000000   \n",
      "25%       0.000000     1.000000    19.000000      0.000000      0.000000   \n",
      "50%       0.000000     2.000000    27.000000      0.000000      0.000000   \n",
      "75%       1.000000     2.000000    38.000000     47.000000     76.000000   \n",
      "max       2.000000     2.000000    79.000000  14327.000000  29813.000000   \n",
      "\n",
      "       ShoppingMall           Spa        VRDeck  \n",
      "count   8485.000000   8510.000000   8505.000000  \n",
      "mean     173.729169    311.138778    304.854791  \n",
      "std      604.696458   1136.705535   1145.717189  \n",
      "min        0.000000      0.000000      0.000000  \n",
      "25%        0.000000      0.000000      0.000000  \n",
      "50%        0.000000      0.000000      0.000000  \n",
      "75%       27.000000     59.000000     46.000000  \n",
      "max    23492.000000  22408.000000  24133.000000  \n"
     ]
    }
   ],
   "source": [
    "print(train.describe())"
   ]
  },
  {
   "cell_type": "markdown",
   "id": "315aca58",
   "metadata": {
    "papermill": {
     "duration": 0.008002,
     "end_time": "2023-11-18T11:08:15.734359",
     "exception": false,
     "start_time": "2023-11-18T11:08:15.726357",
     "status": "completed"
    },
    "tags": []
   },
   "source": [
    "**Age vs. Transported**"
   ]
  },
  {
   "cell_type": "markdown",
   "id": "5521b920",
   "metadata": {
    "papermill": {
     "duration": 0.008003,
     "end_time": "2023-11-18T11:08:15.750362",
     "exception": false,
     "start_time": "2023-11-18T11:08:15.742359",
     "status": "completed"
    },
    "tags": []
   },
   "source": [
    "Нужно сделать разделение на Age Band"
   ]
  },
  {
   "cell_type": "code",
   "execution_count": 16,
   "id": "345fc894",
   "metadata": {
    "execution": {
     "iopub.execute_input": "2023-11-18T11:08:15.768357Z",
     "iopub.status.busy": "2023-11-18T11:08:15.767368Z",
     "iopub.status.idle": "2023-11-18T11:08:15.779634Z",
     "shell.execute_reply": "2023-11-18T11:08:15.779634Z"
    },
    "papermill": {
     "duration": 0.022275,
     "end_time": "2023-11-18T11:08:15.780636",
     "exception": false,
     "start_time": "2023-11-18T11:08:15.758361",
     "status": "completed"
    },
    "tags": []
   },
   "outputs": [
    {
     "name": "stdout",
     "output_type": "stream",
     "text": [
      "          AgeBand  Transported\n",
      "0  (-0.079, 15.8]     0.647200\n",
      "1    (15.8, 31.6]     0.475402\n",
      "2    (31.6, 47.4]     0.485281\n",
      "3    (47.4, 63.2]     0.486747\n",
      "4    (63.2, 79.0]     0.463235\n"
     ]
    },
    {
     "name": "stderr",
     "output_type": "stream",
     "text": [
      "C:\\Users\\zhest\\AppData\\Local\\Temp\\ipykernel_4784\\3056128142.py:7: SettingWithCopyWarning: \n",
      "A value is trying to be set on a copy of a slice from a DataFrame\n",
      "\n",
      "See the caveats in the documentation: https://pandas.pydata.org/pandas-docs/stable/user_guide/indexing.html#returning-a-view-versus-a-copy\n",
      "  dataset['Age'][np.isnan(dataset['Age'])] = age_null_random_list\n",
      "C:\\Users\\zhest\\AppData\\Local\\Temp\\ipykernel_4784\\3056128142.py:7: SettingWithCopyWarning: \n",
      "A value is trying to be set on a copy of a slice from a DataFrame\n",
      "\n",
      "See the caveats in the documentation: https://pandas.pydata.org/pandas-docs/stable/user_guide/indexing.html#returning-a-view-versus-a-copy\n",
      "  dataset['Age'][np.isnan(dataset['Age'])] = age_null_random_list\n",
      "C:\\Users\\zhest\\AppData\\Local\\Temp\\ipykernel_4784\\3056128142.py:13: FutureWarning: The default of observed=False is deprecated and will be changed to True in a future version of pandas. Pass observed=False to retain current behavior or observed=True to adopt the future default and silence this warning.\n",
      "  print (train[['AgeBand', 'Transported']].groupby(['AgeBand'], as_index=False).mean())\n"
     ]
    }
   ],
   "source": [
    "for dataset in train_test_data:\n",
    "    age_avg = dataset['Age'].mean()\n",
    "    age_std = dataset['Age'].std()\n",
    "    age_null_count = dataset['Age'].isnull().sum()\n",
    "    \n",
    "    age_null_random_list = np.random.randint(age_avg - age_std, age_avg + age_std, size=age_null_count)\n",
    "    dataset['Age'][np.isnan(dataset['Age'])] = age_null_random_list\n",
    "    dataset['Age'] = dataset['Age'].astype(int)\n",
    "\n",
    "for dataset in train_test_data:\n",
    "    dataset['AgeBand'] = pd.cut(train['Age'], 5)\n",
    "\n",
    "print (train[['AgeBand', 'Transported']].groupby(['AgeBand'], as_index=False).mean())"
   ]
  },
  {
   "cell_type": "code",
   "execution_count": 17,
   "id": "cce489ed",
   "metadata": {
    "execution": {
     "iopub.execute_input": "2023-11-18T11:08:15.798652Z",
     "iopub.status.busy": "2023-11-18T11:08:15.797651Z",
     "iopub.status.idle": "2023-11-18T11:08:15.809626Z",
     "shell.execute_reply": "2023-11-18T11:08:15.809626Z"
    },
    "papermill": {
     "duration": 0.020981,
     "end_time": "2023-11-18T11:08:15.810628",
     "exception": false,
     "start_time": "2023-11-18T11:08:15.789647",
     "status": "completed"
    },
    "tags": []
   },
   "outputs": [
    {
     "name": "stdout",
     "output_type": "stream",
     "text": [
      "  PassengerId  HomePlanet  CryoSleep  Cabin  Destination  Age    VIP  \\\n",
      "0     0001_01           1      False  B/0/P            2    2  False   \n",
      "1     0002_01           0      False  F/0/S            2    1  False   \n",
      "2     0003_01           1      False  A/0/S            2    3   True   \n",
      "3     0003_02           1      False  A/0/S            2    2  False   \n",
      "4     0004_01           0      False  F/1/S            2    0  False   \n",
      "5     0005_01           0      False  F/0/P            1    2  False   \n",
      "6     0006_01           0      False  F/2/S            2    1  False   \n",
      "7     0006_02           0       True  G/0/S            2    1  False   \n",
      "8     0007_01           0      False  F/3/S            2    2  False   \n",
      "9     0008_01           1       True  B/1/P            0    0  False   \n",
      "\n",
      "   RoomService  FoodCourt  ShoppingMall     Spa  VRDeck                Name  \\\n",
      "0          0.0        0.0           0.0     0.0     0.0     Maham Ofracculy   \n",
      "1        109.0        9.0          25.0   549.0    44.0        Juanna Vines   \n",
      "2         43.0     3576.0           0.0  6715.0    49.0       Altark Susent   \n",
      "3          0.0     1283.0         371.0  3329.0   193.0        Solam Susent   \n",
      "4        303.0       70.0         151.0   565.0     2.0   Willy Santantines   \n",
      "5          0.0      483.0           0.0   291.0     0.0   Sandie Hinetthews   \n",
      "6         42.0     1539.0           3.0     0.0     0.0  Billex Jacostaffey   \n",
      "7          0.0        0.0           0.0     0.0     NaN  Candra Jacostaffey   \n",
      "8          0.0      785.0          17.0   216.0     0.0       Andona Beston   \n",
      "9          0.0        0.0           0.0     0.0     0.0      Erraiam Flatic   \n",
      "\n",
      "   Transported         AgeBand  \n",
      "0        False    (31.6, 47.4]  \n",
      "1         True    (15.8, 31.6]  \n",
      "2        False    (47.4, 63.2]  \n",
      "3        False    (31.6, 47.4]  \n",
      "4         True    (15.8, 31.6]  \n",
      "5         True    (31.6, 47.4]  \n",
      "6         True    (15.8, 31.6]  \n",
      "7         True    (15.8, 31.6]  \n",
      "8         True    (31.6, 47.4]  \n",
      "9         True  (-0.079, 15.8]  \n"
     ]
    }
   ],
   "source": [
    "for dataset in train_test_data:\n",
    "    dataset.loc[ dataset['Age'] <= 16, 'Age'] = 0\n",
    "    dataset.loc[(dataset['Age'] > 16) & (dataset['Age'] <= 32), 'Age'] = 1\n",
    "    dataset.loc[(dataset['Age'] > 32) & (dataset['Age'] <= 48), 'Age'] = 2\n",
    "    dataset.loc[(dataset['Age'] > 48) & (dataset['Age'] <= 64), 'Age'] = 3\n",
    "    dataset.loc[ dataset['Age'] > 64, 'Age'] = 4\n",
    "print(train.head(10))"
   ]
  },
  {
   "cell_type": "markdown",
   "id": "3864519b",
   "metadata": {
    "papermill": {
     "duration": 0.008001,
     "end_time": "2023-11-18T11:08:15.826641",
     "exception": false,
     "start_time": "2023-11-18T11:08:15.818640",
     "status": "completed"
    },
    "tags": []
   },
   "source": [
    "**VIP vs. Transported**"
   ]
  },
  {
   "cell_type": "code",
   "execution_count": 18,
   "id": "3873d0c7",
   "metadata": {
    "execution": {
     "iopub.execute_input": "2023-11-18T11:08:15.843645Z",
     "iopub.status.busy": "2023-11-18T11:08:15.843645Z",
     "iopub.status.idle": "2023-11-18T11:08:15.854381Z",
     "shell.execute_reply": "2023-11-18T11:08:15.854381Z"
    },
    "papermill": {
     "duration": 0.020557,
     "end_time": "2023-11-18T11:08:15.855383",
     "exception": false,
     "start_time": "2023-11-18T11:08:15.834826",
     "status": "completed"
    },
    "tags": []
   },
   "outputs": [
    {
     "name": "stdout",
     "output_type": "stream",
     "text": [
      "VIP    Transported\n",
      "False  True           4198\n",
      "       False          4093\n",
      "True   False           123\n",
      "       True             76\n",
      "Name: count, dtype: int64\n"
     ]
    },
    {
     "data": {
      "text/html": [
       "<div>\n",
       "<style scoped>\n",
       "    .dataframe tbody tr th:only-of-type {\n",
       "        vertical-align: middle;\n",
       "    }\n",
       "\n",
       "    .dataframe tbody tr th {\n",
       "        vertical-align: top;\n",
       "    }\n",
       "\n",
       "    .dataframe thead th {\n",
       "        text-align: right;\n",
       "    }\n",
       "</style>\n",
       "<table border=\"1\" class=\"dataframe\">\n",
       "  <thead>\n",
       "    <tr style=\"text-align: right;\">\n",
       "      <th></th>\n",
       "      <th>VIP</th>\n",
       "      <th>Transported</th>\n",
       "    </tr>\n",
       "  </thead>\n",
       "  <tbody>\n",
       "    <tr>\n",
       "      <th>0</th>\n",
       "      <td>False</td>\n",
       "      <td>0.506332</td>\n",
       "    </tr>\n",
       "    <tr>\n",
       "      <th>1</th>\n",
       "      <td>True</td>\n",
       "      <td>0.381910</td>\n",
       "    </tr>\n",
       "  </tbody>\n",
       "</table>\n",
       "</div>"
      ],
      "text/plain": [
       "     VIP  Transported\n",
       "0  False     0.506332\n",
       "1   True     0.381910"
      ]
     },
     "execution_count": 18,
     "metadata": {},
     "output_type": "execute_result"
    }
   ],
   "source": [
    "print(train.groupby('VIP').Transported.value_counts())\n",
    "train[['VIP', 'Transported']].groupby('VIP', as_index = False).mean()"
   ]
  },
  {
   "cell_type": "code",
   "execution_count": 19,
   "id": "501793c5",
   "metadata": {
    "execution": {
     "iopub.execute_input": "2023-11-18T11:08:15.873398Z",
     "iopub.status.busy": "2023-11-18T11:08:15.873398Z",
     "iopub.status.idle": "2023-11-18T11:08:15.877513Z",
     "shell.execute_reply": "2023-11-18T11:08:15.877513Z"
    },
    "papermill": {
     "duration": 0.014129,
     "end_time": "2023-11-18T11:08:15.878516",
     "exception": false,
     "start_time": "2023-11-18T11:08:15.864387",
     "status": "completed"
    },
    "tags": []
   },
   "outputs": [
    {
     "name": "stdout",
     "output_type": "stream",
     "text": [
      "VIP\n",
      "False    8291\n",
      "True      199\n",
      "Name: count, dtype: int64\n"
     ]
    }
   ],
   "source": [
    "print(train.VIP.value_counts())"
   ]
  },
  {
   "cell_type": "code",
   "execution_count": 20,
   "id": "c6bc21a3",
   "metadata": {
    "execution": {
     "iopub.execute_input": "2023-11-18T11:08:15.896529Z",
     "iopub.status.busy": "2023-11-18T11:08:15.896529Z",
     "iopub.status.idle": "2023-11-18T11:08:15.900250Z",
     "shell.execute_reply": "2023-11-18T11:08:15.900250Z"
    },
    "papermill": {
     "duration": 0.014731,
     "end_time": "2023-11-18T11:08:15.902259",
     "exception": false,
     "start_time": "2023-11-18T11:08:15.887528",
     "status": "completed"
    },
    "tags": []
   },
   "outputs": [],
   "source": [
    "for dataset in train_test_data:\n",
    "    dataset['VIP'] = dataset['VIP'].fillna(False)"
   ]
  },
  {
   "cell_type": "code",
   "execution_count": 21,
   "id": "6664c5cb",
   "metadata": {
    "execution": {
     "iopub.execute_input": "2023-11-18T11:08:15.920267Z",
     "iopub.status.busy": "2023-11-18T11:08:15.920267Z",
     "iopub.status.idle": "2023-11-18T11:08:15.932774Z",
     "shell.execute_reply": "2023-11-18T11:08:15.932774Z"
    },
    "papermill": {
     "duration": 0.023513,
     "end_time": "2023-11-18T11:08:15.933776",
     "exception": false,
     "start_time": "2023-11-18T11:08:15.910263",
     "status": "completed"
    },
    "tags": []
   },
   "outputs": [
    {
     "name": "stdout",
     "output_type": "stream",
     "text": [
      "       PassengerId    Cabin            Name\n",
      "count         8693     8494            8493\n",
      "unique        8693     6560            8473\n",
      "top        0001_01  G/734/S  Gollux Reedall\n",
      "freq             1        8               2\n"
     ]
    }
   ],
   "source": [
    "print(train.describe(include=['O']))"
   ]
  },
  {
   "cell_type": "markdown",
   "id": "53be00e9",
   "metadata": {
    "papermill": {
     "duration": 0.00801,
     "end_time": "2023-11-18T11:08:15.950794",
     "exception": false,
     "start_time": "2023-11-18T11:08:15.942784",
     "status": "completed"
    },
    "tags": []
   },
   "source": [
    "**RoomService vs Transported**"
   ]
  },
  {
   "cell_type": "code",
   "execution_count": 22,
   "id": "a2cf0650",
   "metadata": {
    "execution": {
     "iopub.execute_input": "2023-11-18T11:08:15.968785Z",
     "iopub.status.busy": "2023-11-18T11:08:15.967786Z",
     "iopub.status.idle": "2023-11-18T11:08:15.980055Z",
     "shell.execute_reply": "2023-11-18T11:08:15.980055Z"
    },
    "papermill": {
     "duration": 0.022275,
     "end_time": "2023-11-18T11:08:15.981058",
     "exception": false,
     "start_time": "2023-11-18T11:08:15.958783",
     "status": "completed"
    },
    "tags": []
   },
   "outputs": [
    {
     "name": "stdout",
     "output_type": "stream",
     "text": [
      "      RoomServiceBand  Transported\n",
      "0  (-441.754, 6950.0]     0.504262\n",
      "1   (6950.0, 14327.0]     0.000000\n"
     ]
    },
    {
     "name": "stderr",
     "output_type": "stream",
     "text": [
      "C:\\Users\\zhest\\AppData\\Local\\Temp\\ipykernel_4784\\3198094544.py:7: SettingWithCopyWarning: \n",
      "A value is trying to be set on a copy of a slice from a DataFrame\n",
      "\n",
      "See the caveats in the documentation: https://pandas.pydata.org/pandas-docs/stable/user_guide/indexing.html#returning-a-view-versus-a-copy\n",
      "  dataset['RoomService'][np.isnan(dataset['RoomService'])] = room_null_random_list\n",
      "C:\\Users\\zhest\\AppData\\Local\\Temp\\ipykernel_4784\\3198094544.py:7: SettingWithCopyWarning: \n",
      "A value is trying to be set on a copy of a slice from a DataFrame\n",
      "\n",
      "See the caveats in the documentation: https://pandas.pydata.org/pandas-docs/stable/user_guide/indexing.html#returning-a-view-versus-a-copy\n",
      "  dataset['RoomService'][np.isnan(dataset['RoomService'])] = room_null_random_list\n",
      "C:\\Users\\zhest\\AppData\\Local\\Temp\\ipykernel_4784\\3198094544.py:13: FutureWarning: The default of observed=False is deprecated and will be changed to True in a future version of pandas. Pass observed=False to retain current behavior or observed=True to adopt the future default and silence this warning.\n",
      "  print (train[['RoomServiceBand', 'Transported']].groupby(['RoomServiceBand'], as_index=False).mean())\n"
     ]
    }
   ],
   "source": [
    "for dataset in train_test_data:\n",
    "    room_avg = dataset['RoomService'].mean()\n",
    "    room_std = dataset['RoomService'].std()\n",
    "    room_null_count = dataset['RoomService'].isnull().sum()\n",
    "    \n",
    "    room_null_random_list = np.random.randint(room_avg - room_std, room_avg + room_std, size=room_null_count)\n",
    "    dataset['RoomService'][np.isnan(dataset['RoomService'])] = room_null_random_list\n",
    "    dataset['RoomService'] = dataset['RoomService'].astype(int)\n",
    "\n",
    "for dataset in train_test_data:\n",
    "    dataset['RoomServiceBand'] = pd.cut(train['RoomService'], 2)\n",
    "\n",
    "print (train[['RoomServiceBand', 'Transported']].groupby(['RoomServiceBand'], as_index=False).mean())"
   ]
  },
  {
   "cell_type": "code",
   "execution_count": 23,
   "id": "f14f1b62",
   "metadata": {
    "execution": {
     "iopub.execute_input": "2023-11-18T11:08:15.999072Z",
     "iopub.status.busy": "2023-11-18T11:08:15.999072Z",
     "iopub.status.idle": "2023-11-18T11:08:16.007134Z",
     "shell.execute_reply": "2023-11-18T11:08:16.007134Z"
    },
    "papermill": {
     "duration": 0.019074,
     "end_time": "2023-11-18T11:08:16.009146",
     "exception": false,
     "start_time": "2023-11-18T11:08:15.990072",
     "status": "completed"
    },
    "tags": []
   },
   "outputs": [
    {
     "name": "stdout",
     "output_type": "stream",
     "text": [
      "  PassengerId  HomePlanet  CryoSleep  Cabin  Destination  Age    VIP  \\\n",
      "0     0001_01           1      False  B/0/P            2    2  False   \n",
      "1     0002_01           0      False  F/0/S            2    1  False   \n",
      "2     0003_01           1      False  A/0/S            2    3   True   \n",
      "3     0003_02           1      False  A/0/S            2    2  False   \n",
      "4     0004_01           0      False  F/1/S            2    0  False   \n",
      "\n",
      "   RoomService  FoodCourt  ShoppingMall     Spa  VRDeck               Name  \\\n",
      "0            0        0.0           0.0     0.0     0.0    Maham Ofracculy   \n",
      "1            0        9.0          25.0   549.0    44.0       Juanna Vines   \n",
      "2            0     3576.0           0.0  6715.0    49.0      Altark Susent   \n",
      "3            0     1283.0         371.0  3329.0   193.0       Solam Susent   \n",
      "4            0       70.0         151.0   565.0     2.0  Willy Santantines   \n",
      "\n",
      "   Transported       AgeBand     RoomServiceBand  \n",
      "0        False  (31.6, 47.4]  (-441.754, 6950.0]  \n",
      "1         True  (15.8, 31.6]  (-441.754, 6950.0]  \n",
      "2        False  (47.4, 63.2]  (-441.754, 6950.0]  \n",
      "3        False  (31.6, 47.4]  (-441.754, 6950.0]  \n",
      "4         True  (15.8, 31.6]  (-441.754, 6950.0]  \n"
     ]
    }
   ],
   "source": [
    "for dataset in train_test_data:\n",
    "    dataset.loc[ dataset['RoomService'] <= 6948, 'RoomService'] = 0\n",
    "    dataset.loc[ dataset['RoomService'] > 6948, 'RoomService'] = 1\n",
    "\n",
    "print(train.head())"
   ]
  },
  {
   "cell_type": "markdown",
   "id": "362e22f5",
   "metadata": {
    "papermill": {
     "duration": 0.009003,
     "end_time": "2023-11-18T11:08:16.026150",
     "exception": false,
     "start_time": "2023-11-18T11:08:16.017147",
     "status": "completed"
    },
    "tags": []
   },
   "source": [
    "**FoodCourt vs. Transported**"
   ]
  },
  {
   "cell_type": "code",
   "execution_count": 24,
   "id": "5c0f4d59",
   "metadata": {
    "execution": {
     "iopub.execute_input": "2023-11-18T11:08:16.045145Z",
     "iopub.status.busy": "2023-11-18T11:08:16.045145Z",
     "iopub.status.idle": "2023-11-18T11:08:16.057689Z",
     "shell.execute_reply": "2023-11-18T11:08:16.057689Z"
    },
    "papermill": {
     "duration": 0.023541,
     "end_time": "2023-11-18T11:08:16.058684",
     "exception": false,
     "start_time": "2023-11-18T11:08:16.035143",
     "status": "completed"
    },
    "tags": []
   },
   "outputs": [
    {
     "name": "stdout",
     "output_type": "stream",
     "text": [
      "         FoodCourtBand  Transported\n",
      "0  (-1163.946, 6603.5]     0.501225\n",
      "1    (6603.5, 14340.0]     0.632075\n",
      "2   (14340.0, 22076.5]     0.857143\n",
      "3   (22076.5, 29813.0]     1.000000\n"
     ]
    },
    {
     "name": "stderr",
     "output_type": "stream",
     "text": [
      "C:\\Users\\zhest\\AppData\\Local\\Temp\\ipykernel_4784\\828485988.py:7: SettingWithCopyWarning: \n",
      "A value is trying to be set on a copy of a slice from a DataFrame\n",
      "\n",
      "See the caveats in the documentation: https://pandas.pydata.org/pandas-docs/stable/user_guide/indexing.html#returning-a-view-versus-a-copy\n",
      "  dataset['FoodCourt'][np.isnan(dataset['FoodCourt'])] = food_null_random_list\n",
      "C:\\Users\\zhest\\AppData\\Local\\Temp\\ipykernel_4784\\828485988.py:7: SettingWithCopyWarning: \n",
      "A value is trying to be set on a copy of a slice from a DataFrame\n",
      "\n",
      "See the caveats in the documentation: https://pandas.pydata.org/pandas-docs/stable/user_guide/indexing.html#returning-a-view-versus-a-copy\n",
      "  dataset['FoodCourt'][np.isnan(dataset['FoodCourt'])] = food_null_random_list\n",
      "C:\\Users\\zhest\\AppData\\Local\\Temp\\ipykernel_4784\\828485988.py:13: FutureWarning: The default of observed=False is deprecated and will be changed to True in a future version of pandas. Pass observed=False to retain current behavior or observed=True to adopt the future default and silence this warning.\n",
      "  print (train[['FoodCourtBand', 'Transported']].groupby(['FoodCourtBand'], as_index=False).mean())\n"
     ]
    }
   ],
   "source": [
    "for dataset in train_test_data:\n",
    "    food_avg = dataset['FoodCourt'].mean()\n",
    "    food_std = dataset['FoodCourt'].std()\n",
    "    food_null_count = dataset['FoodCourt'].isnull().sum()\n",
    "    \n",
    "    food_null_random_list = np.random.randint(food_avg - food_std, food_avg + food_std, size=food_null_count)\n",
    "    dataset['FoodCourt'][np.isnan(dataset['FoodCourt'])] = food_null_random_list\n",
    "    dataset['FoodCourt'] = dataset['FoodCourt'].astype(int)\n",
    "\n",
    "for dataset in train_test_data:\n",
    "    dataset['FoodCourtBand'] = pd.cut(train['FoodCourt'], 4)\n",
    "\n",
    "print (train[['FoodCourtBand', 'Transported']].groupby(['FoodCourtBand'], as_index=False).mean())"
   ]
  },
  {
   "cell_type": "code",
   "execution_count": 25,
   "id": "7ccd3fcc",
   "metadata": {
    "execution": {
     "iopub.execute_input": "2023-11-18T11:08:16.077691Z",
     "iopub.status.busy": "2023-11-18T11:08:16.076700Z",
     "iopub.status.idle": "2023-11-18T11:08:16.088065Z",
     "shell.execute_reply": "2023-11-18T11:08:16.088065Z"
    },
    "papermill": {
     "duration": 0.021373,
     "end_time": "2023-11-18T11:08:16.089068",
     "exception": false,
     "start_time": "2023-11-18T11:08:16.067695",
     "status": "completed"
    },
    "tags": []
   },
   "outputs": [
    {
     "name": "stdout",
     "output_type": "stream",
     "text": [
      "  PassengerId  HomePlanet  CryoSleep  Cabin  Destination  Age    VIP  \\\n",
      "0     0001_01           1      False  B/0/P            2    2  False   \n",
      "1     0002_01           0      False  F/0/S            2    1  False   \n",
      "2     0003_01           1      False  A/0/S            2    3   True   \n",
      "3     0003_02           1      False  A/0/S            2    2  False   \n",
      "4     0004_01           0      False  F/1/S            2    0  False   \n",
      "5     0005_01           0      False  F/0/P            1    2  False   \n",
      "6     0006_01           0      False  F/2/S            2    1  False   \n",
      "7     0006_02           0       True  G/0/S            2    1  False   \n",
      "8     0007_01           0      False  F/3/S            2    2  False   \n",
      "9     0008_01           1       True  B/1/P            0    0  False   \n",
      "\n",
      "   RoomService  FoodCourt  ShoppingMall     Spa  VRDeck                Name  \\\n",
      "0            0          0           0.0     0.0     0.0     Maham Ofracculy   \n",
      "1            0          0          25.0   549.0    44.0        Juanna Vines   \n",
      "2            0          0           0.0  6715.0    49.0       Altark Susent   \n",
      "3            0          0         371.0  3329.0   193.0        Solam Susent   \n",
      "4            0          0         151.0   565.0     2.0   Willy Santantines   \n",
      "5            0          0           0.0   291.0     0.0   Sandie Hinetthews   \n",
      "6            0          0           3.0     0.0     0.0  Billex Jacostaffey   \n",
      "7            0          0           0.0     0.0     NaN  Candra Jacostaffey   \n",
      "8            0          0          17.0   216.0     0.0       Andona Beston   \n",
      "9            0          0           0.0     0.0     0.0      Erraiam Flatic   \n",
      "\n",
      "   Transported         AgeBand     RoomServiceBand        FoodCourtBand  \n",
      "0        False    (31.6, 47.4]  (-441.754, 6950.0]  (-1163.946, 6603.5]  \n",
      "1         True    (15.8, 31.6]  (-441.754, 6950.0]  (-1163.946, 6603.5]  \n",
      "2        False    (47.4, 63.2]  (-441.754, 6950.0]  (-1163.946, 6603.5]  \n",
      "3        False    (31.6, 47.4]  (-441.754, 6950.0]  (-1163.946, 6603.5]  \n",
      "4         True    (15.8, 31.6]  (-441.754, 6950.0]  (-1163.946, 6603.5]  \n",
      "5         True    (31.6, 47.4]  (-441.754, 6950.0]  (-1163.946, 6603.5]  \n",
      "6         True    (15.8, 31.6]  (-441.754, 6950.0]  (-1163.946, 6603.5]  \n",
      "7         True    (15.8, 31.6]  (-441.754, 6950.0]  (-1163.946, 6603.5]  \n",
      "8         True    (31.6, 47.4]  (-441.754, 6950.0]  (-1163.946, 6603.5]  \n",
      "9         True  (-0.079, 15.8]  (-441.754, 6950.0]  (-1163.946, 6603.5]  \n"
     ]
    }
   ],
   "source": [
    "for dataset in train_test_data:\n",
    "    dataset.loc[ dataset['FoodCourt'] <= 6613, 'FoodCourt'] = 0\n",
    "    dataset.loc[(dataset['FoodCourt'] > 6613) & (dataset['FoodCourt'] <= 14346), 'FoodCourt'] = 1\n",
    "    dataset.loc[(dataset['FoodCourt'] > 14346) & (dataset['FoodCourt'] <= 22080), 'FoodCourt'] = 2\n",
    "    dataset.loc[dataset['FoodCourt'] > 22080 , 'FoodCourt'] = 3\n",
    "print(train.head(10))"
   ]
  },
  {
   "cell_type": "markdown",
   "id": "a46472db",
   "metadata": {
    "papermill": {
     "duration": 0.007999,
     "end_time": "2023-11-18T11:08:16.106081",
     "exception": false,
     "start_time": "2023-11-18T11:08:16.098082",
     "status": "completed"
    },
    "tags": []
   },
   "source": [
    "**ShoppingMall vs. Transported**"
   ]
  },
  {
   "cell_type": "code",
   "execution_count": 26,
   "id": "f9cef8c5",
   "metadata": {
    "execution": {
     "iopub.execute_input": "2023-11-18T11:08:16.125076Z",
     "iopub.status.busy": "2023-11-18T11:08:16.124086Z",
     "iopub.status.idle": "2023-11-18T11:08:16.136128Z",
     "shell.execute_reply": "2023-11-18T11:08:16.136128Z"
    },
    "papermill": {
     "duration": 0.022046,
     "end_time": "2023-11-18T11:08:16.137130",
     "exception": false,
     "start_time": "2023-11-18T11:08:16.115084",
     "status": "completed"
    },
    "tags": []
   },
   "outputs": [
    {
     "name": "stdout",
     "output_type": "stream",
     "text": [
      "        ShoppingMallBand  Transported\n",
      "0   (-448.917, 7547.333]     0.503511\n",
      "1  (7547.333, 15519.667]     0.600000\n",
      "2   (15519.667, 23492.0]     1.000000\n"
     ]
    },
    {
     "name": "stderr",
     "output_type": "stream",
     "text": [
      "C:\\Users\\zhest\\AppData\\Local\\Temp\\ipykernel_4784\\1571108037.py:7: SettingWithCopyWarning: \n",
      "A value is trying to be set on a copy of a slice from a DataFrame\n",
      "\n",
      "See the caveats in the documentation: https://pandas.pydata.org/pandas-docs/stable/user_guide/indexing.html#returning-a-view-versus-a-copy\n",
      "  dataset['ShoppingMall'][np.isnan(dataset['ShoppingMall'])] = shopping_null_random_list\n",
      "C:\\Users\\zhest\\AppData\\Local\\Temp\\ipykernel_4784\\1571108037.py:7: SettingWithCopyWarning: \n",
      "A value is trying to be set on a copy of a slice from a DataFrame\n",
      "\n",
      "See the caveats in the documentation: https://pandas.pydata.org/pandas-docs/stable/user_guide/indexing.html#returning-a-view-versus-a-copy\n",
      "  dataset['ShoppingMall'][np.isnan(dataset['ShoppingMall'])] = shopping_null_random_list\n",
      "C:\\Users\\zhest\\AppData\\Local\\Temp\\ipykernel_4784\\1571108037.py:13: FutureWarning: The default of observed=False is deprecated and will be changed to True in a future version of pandas. Pass observed=False to retain current behavior or observed=True to adopt the future default and silence this warning.\n",
      "  print (train[['ShoppingMallBand', 'Transported']].groupby(['ShoppingMallBand'], as_index=False).mean())\n"
     ]
    }
   ],
   "source": [
    "for dataset in train_test_data:\n",
    "    shopping_avg = dataset['ShoppingMall'].mean()\n",
    "    shopping_std = dataset['ShoppingMall'].std()\n",
    "    shopping_null_count = dataset['ShoppingMall'].isnull().sum()\n",
    "    \n",
    "    shopping_null_random_list = np.random.randint(shopping_avg - shopping_std, shopping_avg + shopping_std, size=shopping_null_count)\n",
    "    dataset['ShoppingMall'][np.isnan(dataset['ShoppingMall'])] = shopping_null_random_list\n",
    "    dataset['ShoppingMall'] = dataset['ShoppingMall'].astype(int)\n",
    "\n",
    "for dataset in train_test_data:\n",
    "    dataset['ShoppingMallBand'] = pd.cut(train['ShoppingMall'], 3)\n",
    "\n",
    "print (train[['ShoppingMallBand', 'Transported']].groupby(['ShoppingMallBand'], as_index=False).mean())"
   ]
  },
  {
   "cell_type": "code",
   "execution_count": 27,
   "id": "dd71cd92",
   "metadata": {
    "execution": {
     "iopub.execute_input": "2023-11-18T11:08:16.156135Z",
     "iopub.status.busy": "2023-11-18T11:08:16.156135Z",
     "iopub.status.idle": "2023-11-18T11:08:16.165663Z",
     "shell.execute_reply": "2023-11-18T11:08:16.165663Z"
    },
    "papermill": {
     "duration": 0.020517,
     "end_time": "2023-11-18T11:08:16.166658",
     "exception": false,
     "start_time": "2023-11-18T11:08:16.146141",
     "status": "completed"
    },
    "tags": []
   },
   "outputs": [
    {
     "name": "stdout",
     "output_type": "stream",
     "text": [
      "  PassengerId  HomePlanet  CryoSleep  Cabin  Destination  Age    VIP  \\\n",
      "0     0001_01           1      False  B/0/P            2    2  False   \n",
      "1     0002_01           0      False  F/0/S            2    1  False   \n",
      "2     0003_01           1      False  A/0/S            2    3   True   \n",
      "3     0003_02           1      False  A/0/S            2    2  False   \n",
      "4     0004_01           0      False  F/1/S            2    0  False   \n",
      "5     0005_01           0      False  F/0/P            1    2  False   \n",
      "6     0006_01           0      False  F/2/S            2    1  False   \n",
      "7     0006_02           0       True  G/0/S            2    1  False   \n",
      "8     0007_01           0      False  F/3/S            2    2  False   \n",
      "9     0008_01           1       True  B/1/P            0    0  False   \n",
      "\n",
      "   RoomService  FoodCourt  ShoppingMall     Spa  VRDeck                Name  \\\n",
      "0            0          0             0     0.0     0.0     Maham Ofracculy   \n",
      "1            0          0             0   549.0    44.0        Juanna Vines   \n",
      "2            0          0             0  6715.0    49.0       Altark Susent   \n",
      "3            0          0             0  3329.0   193.0        Solam Susent   \n",
      "4            0          0             0   565.0     2.0   Willy Santantines   \n",
      "5            0          0             0   291.0     0.0   Sandie Hinetthews   \n",
      "6            0          0             0     0.0     0.0  Billex Jacostaffey   \n",
      "7            0          0             0     0.0     NaN  Candra Jacostaffey   \n",
      "8            0          0             0   216.0     0.0       Andona Beston   \n",
      "9            0          0             0     0.0     0.0      Erraiam Flatic   \n",
      "\n",
      "   Transported         AgeBand     RoomServiceBand        FoodCourtBand  \\\n",
      "0        False    (31.6, 47.4]  (-441.754, 6950.0]  (-1163.946, 6603.5]   \n",
      "1         True    (15.8, 31.6]  (-441.754, 6950.0]  (-1163.946, 6603.5]   \n",
      "2        False    (47.4, 63.2]  (-441.754, 6950.0]  (-1163.946, 6603.5]   \n",
      "3        False    (31.6, 47.4]  (-441.754, 6950.0]  (-1163.946, 6603.5]   \n",
      "4         True    (15.8, 31.6]  (-441.754, 6950.0]  (-1163.946, 6603.5]   \n",
      "5         True    (31.6, 47.4]  (-441.754, 6950.0]  (-1163.946, 6603.5]   \n",
      "6         True    (15.8, 31.6]  (-441.754, 6950.0]  (-1163.946, 6603.5]   \n",
      "7         True    (15.8, 31.6]  (-441.754, 6950.0]  (-1163.946, 6603.5]   \n",
      "8         True    (31.6, 47.4]  (-441.754, 6950.0]  (-1163.946, 6603.5]   \n",
      "9         True  (-0.079, 15.8]  (-441.754, 6950.0]  (-1163.946, 6603.5]   \n",
      "\n",
      "       ShoppingMallBand  \n",
      "0  (-448.917, 7547.333]  \n",
      "1  (-448.917, 7547.333]  \n",
      "2  (-448.917, 7547.333]  \n",
      "3  (-448.917, 7547.333]  \n",
      "4  (-448.917, 7547.333]  \n",
      "5  (-448.917, 7547.333]  \n",
      "6  (-448.917, 7547.333]  \n",
      "7  (-448.917, 7547.333]  \n",
      "8  (-448.917, 7547.333]  \n",
      "9  (-448.917, 7547.333]  \n"
     ]
    }
   ],
   "source": [
    "for dataset in train_test_data:\n",
    "    dataset.loc[ dataset['ShoppingMall'] <= 7548, 'ShoppingMall'] = 0\n",
    "    dataset.loc[(dataset['ShoppingMall'] > 7548) & (dataset['ShoppingMall'] <= 15520), 'ShoppingMall'] = 1\n",
    "    dataset.loc[dataset['ShoppingMall'] > 15520 , 'ShoppingMall'] = 2\n",
    "print(train.head(10))"
   ]
  },
  {
   "cell_type": "markdown",
   "id": "ab119015",
   "metadata": {
    "papermill": {
     "duration": 0.008009,
     "end_time": "2023-11-18T11:08:16.184670",
     "exception": false,
     "start_time": "2023-11-18T11:08:16.176661",
     "status": "completed"
    },
    "tags": []
   },
   "source": [
    "**Spa vs. Transported**"
   ]
  },
  {
   "cell_type": "code",
   "execution_count": 28,
   "id": "15d369de",
   "metadata": {
    "execution": {
     "iopub.execute_input": "2023-11-18T11:08:16.203666Z",
     "iopub.status.busy": "2023-11-18T11:08:16.203666Z",
     "iopub.status.idle": "2023-11-18T11:08:16.215115Z",
     "shell.execute_reply": "2023-11-18T11:08:16.215115Z"
    },
    "papermill": {
     "duration": 0.022456,
     "end_time": "2023-11-18T11:08:16.216118",
     "exception": false,
     "start_time": "2023-11-18T11:08:16.193662",
     "status": "completed"
    },
    "tags": []
   },
   "outputs": [
    {
     "name": "stdout",
     "output_type": "stream",
     "text": [
      "               SpaBand  Transported\n",
      "0  (-847.232, 10792.0]     0.504901\n",
      "1   (10792.0, 22408.0]     0.000000\n"
     ]
    },
    {
     "name": "stderr",
     "output_type": "stream",
     "text": [
      "C:\\Users\\zhest\\AppData\\Local\\Temp\\ipykernel_4784\\3131671440.py:7: SettingWithCopyWarning: \n",
      "A value is trying to be set on a copy of a slice from a DataFrame\n",
      "\n",
      "See the caveats in the documentation: https://pandas.pydata.org/pandas-docs/stable/user_guide/indexing.html#returning-a-view-versus-a-copy\n",
      "  dataset['Spa'][np.isnan(dataset['Spa'])] = spa_null_random_list\n",
      "C:\\Users\\zhest\\AppData\\Local\\Temp\\ipykernel_4784\\3131671440.py:7: SettingWithCopyWarning: \n",
      "A value is trying to be set on a copy of a slice from a DataFrame\n",
      "\n",
      "See the caveats in the documentation: https://pandas.pydata.org/pandas-docs/stable/user_guide/indexing.html#returning-a-view-versus-a-copy\n",
      "  dataset['Spa'][np.isnan(dataset['Spa'])] = spa_null_random_list\n",
      "C:\\Users\\zhest\\AppData\\Local\\Temp\\ipykernel_4784\\3131671440.py:13: FutureWarning: The default of observed=False is deprecated and will be changed to True in a future version of pandas. Pass observed=False to retain current behavior or observed=True to adopt the future default and silence this warning.\n",
      "  print (train[['SpaBand', 'Transported']].groupby(['SpaBand'], as_index=False).mean())\n"
     ]
    }
   ],
   "source": [
    "for dataset in train_test_data:\n",
    "    spa_avg = dataset['Spa'].mean()\n",
    "    spa_std = dataset['Spa'].std()\n",
    "    spa_null_count = dataset['Spa'].isnull().sum()\n",
    "    \n",
    "    spa_null_random_list = np.random.randint(spa_avg - spa_std, spa_avg + spa_std, size=spa_null_count)\n",
    "    dataset['Spa'][np.isnan(dataset['Spa'])] = spa_null_random_list\n",
    "    dataset['Spa'] = dataset['Spa'].astype(int)\n",
    "\n",
    "for dataset in train_test_data:\n",
    "    dataset['SpaBand'] = pd.cut(train['Spa'], 2)\n",
    "\n",
    "print (train[['SpaBand', 'Transported']].groupby(['SpaBand'], as_index=False).mean())"
   ]
  },
  {
   "cell_type": "code",
   "execution_count": 29,
   "id": "9fc0f7ea",
   "metadata": {
    "execution": {
     "iopub.execute_input": "2023-11-18T11:08:16.236123Z",
     "iopub.status.busy": "2023-11-18T11:08:16.235133Z",
     "iopub.status.idle": "2023-11-18T11:08:16.244632Z",
     "shell.execute_reply": "2023-11-18T11:08:16.244632Z"
    },
    "papermill": {
     "duration": 0.021532,
     "end_time": "2023-11-18T11:08:16.246651",
     "exception": false,
     "start_time": "2023-11-18T11:08:16.225119",
     "status": "completed"
    },
    "tags": []
   },
   "outputs": [
    {
     "name": "stdout",
     "output_type": "stream",
     "text": [
      "  PassengerId  HomePlanet  CryoSleep  Cabin  Destination  Age    VIP  \\\n",
      "0     0001_01           1      False  B/0/P            2    2  False   \n",
      "1     0002_01           0      False  F/0/S            2    1  False   \n",
      "2     0003_01           1      False  A/0/S            2    3   True   \n",
      "3     0003_02           1      False  A/0/S            2    2  False   \n",
      "4     0004_01           0      False  F/1/S            2    0  False   \n",
      "\n",
      "   RoomService  FoodCourt  ShoppingMall  Spa  VRDeck               Name  \\\n",
      "0            0          0             0    0     0.0    Maham Ofracculy   \n",
      "1            0          0             0    0    44.0       Juanna Vines   \n",
      "2            0          0             0    0    49.0      Altark Susent   \n",
      "3            0          0             0    0   193.0       Solam Susent   \n",
      "4            0          0             0    0     2.0  Willy Santantines   \n",
      "\n",
      "   Transported       AgeBand     RoomServiceBand        FoodCourtBand  \\\n",
      "0        False  (31.6, 47.4]  (-441.754, 6950.0]  (-1163.946, 6603.5]   \n",
      "1         True  (15.8, 31.6]  (-441.754, 6950.0]  (-1163.946, 6603.5]   \n",
      "2        False  (47.4, 63.2]  (-441.754, 6950.0]  (-1163.946, 6603.5]   \n",
      "3        False  (31.6, 47.4]  (-441.754, 6950.0]  (-1163.946, 6603.5]   \n",
      "4         True  (15.8, 31.6]  (-441.754, 6950.0]  (-1163.946, 6603.5]   \n",
      "\n",
      "       ShoppingMallBand              SpaBand  \n",
      "0  (-448.917, 7547.333]  (-847.232, 10792.0]  \n",
      "1  (-448.917, 7547.333]  (-847.232, 10792.0]  \n",
      "2  (-448.917, 7547.333]  (-847.232, 10792.0]  \n",
      "3  (-448.917, 7547.333]  (-847.232, 10792.0]  \n",
      "4  (-448.917, 7547.333]  (-847.232, 10792.0]  \n"
     ]
    }
   ],
   "source": [
    "for dataset in train_test_data:\n",
    "    dataset.loc[ dataset['Spa'] <= 10802, 'Spa'] = 0\n",
    "    dataset.loc[dataset['Spa'] > 10802 , 'Spa'] = 1\n",
    "print(train.head())"
   ]
  },
  {
   "cell_type": "markdown",
   "id": "c659c198",
   "metadata": {
    "papermill": {
     "duration": 0.009001,
     "end_time": "2023-11-18T11:08:16.264652",
     "exception": false,
     "start_time": "2023-11-18T11:08:16.255651",
     "status": "completed"
    },
    "tags": []
   },
   "source": [
    "**VRDeck vs. Transported**"
   ]
  },
  {
   "cell_type": "code",
   "execution_count": 30,
   "id": "ad2a6d4c",
   "metadata": {
    "execution": {
     "iopub.execute_input": "2023-11-18T11:08:16.283646Z",
     "iopub.status.busy": "2023-11-18T11:08:16.282657Z",
     "iopub.status.idle": "2023-11-18T11:08:16.294141Z",
     "shell.execute_reply": "2023-11-18T11:08:16.294141Z"
    },
    "papermill": {
     "duration": 0.022493,
     "end_time": "2023-11-18T11:08:16.295144",
     "exception": false,
     "start_time": "2023-11-18T11:08:16.272651",
     "status": "completed"
    },
    "tags": []
   },
   "outputs": [
    {
     "name": "stdout",
     "output_type": "stream",
     "text": [
      "           VRDeckBand  Transported\n",
      "0  (-851.96, 11653.0]     0.504494\n",
      "1  (11653.0, 24133.0]     0.000000\n"
     ]
    },
    {
     "name": "stderr",
     "output_type": "stream",
     "text": [
      "C:\\Users\\zhest\\AppData\\Local\\Temp\\ipykernel_4784\\791651786.py:7: SettingWithCopyWarning: \n",
      "A value is trying to be set on a copy of a slice from a DataFrame\n",
      "\n",
      "See the caveats in the documentation: https://pandas.pydata.org/pandas-docs/stable/user_guide/indexing.html#returning-a-view-versus-a-copy\n",
      "  dataset['VRDeck'][np.isnan(dataset['VRDeck'])] = VRDeck_null_random_list\n",
      "C:\\Users\\zhest\\AppData\\Local\\Temp\\ipykernel_4784\\791651786.py:7: SettingWithCopyWarning: \n",
      "A value is trying to be set on a copy of a slice from a DataFrame\n",
      "\n",
      "See the caveats in the documentation: https://pandas.pydata.org/pandas-docs/stable/user_guide/indexing.html#returning-a-view-versus-a-copy\n",
      "  dataset['VRDeck'][np.isnan(dataset['VRDeck'])] = VRDeck_null_random_list\n",
      "C:\\Users\\zhest\\AppData\\Local\\Temp\\ipykernel_4784\\791651786.py:13: FutureWarning: The default of observed=False is deprecated and will be changed to True in a future version of pandas. Pass observed=False to retain current behavior or observed=True to adopt the future default and silence this warning.\n",
      "  print (train[['VRDeckBand', 'Transported']].groupby(['VRDeckBand'], as_index=False).mean())\n"
     ]
    }
   ],
   "source": [
    "for dataset in train_test_data:\n",
    "    VRDeck_avg = dataset['VRDeck'].mean()\n",
    "    VRDeck_std = dataset['VRDeck'].std()\n",
    "    VRDeck_null_count = dataset['VRDeck'].isnull().sum()\n",
    "    \n",
    "    VRDeck_null_random_list = np.random.randint(VRDeck_avg - VRDeck_std, VRDeck_avg + VRDeck_std, size=VRDeck_null_count)\n",
    "    dataset['VRDeck'][np.isnan(dataset['VRDeck'])] = VRDeck_null_random_list\n",
    "    dataset['VRDeck'] = dataset['VRDeck'].astype(int)\n",
    "\n",
    "for dataset in train_test_data:\n",
    "    dataset['VRDeckBand'] = pd.cut(train['VRDeck'], 2)\n",
    "\n",
    "print (train[['VRDeckBand', 'Transported']].groupby(['VRDeckBand'], as_index=False).mean())"
   ]
  },
  {
   "cell_type": "code",
   "execution_count": 31,
   "id": "b0edc9c1",
   "metadata": {
    "execution": {
     "iopub.execute_input": "2023-11-18T11:08:16.316149Z",
     "iopub.status.busy": "2023-11-18T11:08:16.315158Z",
     "iopub.status.idle": "2023-11-18T11:08:16.324347Z",
     "shell.execute_reply": "2023-11-18T11:08:16.324347Z"
    },
    "papermill": {
     "duration": 0.020205,
     "end_time": "2023-11-18T11:08:16.325352",
     "exception": false,
     "start_time": "2023-11-18T11:08:16.305147",
     "status": "completed"
    },
    "tags": []
   },
   "outputs": [
    {
     "name": "stdout",
     "output_type": "stream",
     "text": [
      "  PassengerId  HomePlanet  CryoSleep  Cabin  Destination  Age    VIP  \\\n",
      "0     0001_01           1      False  B/0/P            2    2  False   \n",
      "1     0002_01           0      False  F/0/S            2    1  False   \n",
      "2     0003_01           1      False  A/0/S            2    3   True   \n",
      "3     0003_02           1      False  A/0/S            2    2  False   \n",
      "4     0004_01           0      False  F/1/S            2    0  False   \n",
      "5     0005_01           0      False  F/0/P            1    2  False   \n",
      "6     0006_01           0      False  F/2/S            2    1  False   \n",
      "7     0006_02           0       True  G/0/S            2    1  False   \n",
      "8     0007_01           0      False  F/3/S            2    2  False   \n",
      "9     0008_01           1       True  B/1/P            0    0  False   \n",
      "\n",
      "   RoomService  FoodCourt  ShoppingMall  Spa  VRDeck                Name  \\\n",
      "0            0          0             0    0       0     Maham Ofracculy   \n",
      "1            0          0             0    0       0        Juanna Vines   \n",
      "2            0          0             0    0       0       Altark Susent   \n",
      "3            0          0             0    0       0        Solam Susent   \n",
      "4            0          0             0    0       0   Willy Santantines   \n",
      "5            0          0             0    0       0   Sandie Hinetthews   \n",
      "6            0          0             0    0       0  Billex Jacostaffey   \n",
      "7            0          0             0    0       0  Candra Jacostaffey   \n",
      "8            0          0             0    0       0       Andona Beston   \n",
      "9            0          0             0    0       0      Erraiam Flatic   \n",
      "\n",
      "   Transported         AgeBand     RoomServiceBand        FoodCourtBand  \\\n",
      "0        False    (31.6, 47.4]  (-441.754, 6950.0]  (-1163.946, 6603.5]   \n",
      "1         True    (15.8, 31.6]  (-441.754, 6950.0]  (-1163.946, 6603.5]   \n",
      "2        False    (47.4, 63.2]  (-441.754, 6950.0]  (-1163.946, 6603.5]   \n",
      "3        False    (31.6, 47.4]  (-441.754, 6950.0]  (-1163.946, 6603.5]   \n",
      "4         True    (15.8, 31.6]  (-441.754, 6950.0]  (-1163.946, 6603.5]   \n",
      "5         True    (31.6, 47.4]  (-441.754, 6950.0]  (-1163.946, 6603.5]   \n",
      "6         True    (15.8, 31.6]  (-441.754, 6950.0]  (-1163.946, 6603.5]   \n",
      "7         True    (15.8, 31.6]  (-441.754, 6950.0]  (-1163.946, 6603.5]   \n",
      "8         True    (31.6, 47.4]  (-441.754, 6950.0]  (-1163.946, 6603.5]   \n",
      "9         True  (-0.079, 15.8]  (-441.754, 6950.0]  (-1163.946, 6603.5]   \n",
      "\n",
      "       ShoppingMallBand              SpaBand          VRDeckBand  \n",
      "0  (-448.917, 7547.333]  (-847.232, 10792.0]  (-851.96, 11653.0]  \n",
      "1  (-448.917, 7547.333]  (-847.232, 10792.0]  (-851.96, 11653.0]  \n",
      "2  (-448.917, 7547.333]  (-847.232, 10792.0]  (-851.96, 11653.0]  \n",
      "3  (-448.917, 7547.333]  (-847.232, 10792.0]  (-851.96, 11653.0]  \n",
      "4  (-448.917, 7547.333]  (-847.232, 10792.0]  (-851.96, 11653.0]  \n",
      "5  (-448.917, 7547.333]  (-847.232, 10792.0]  (-851.96, 11653.0]  \n",
      "6  (-448.917, 7547.333]  (-847.232, 10792.0]  (-851.96, 11653.0]  \n",
      "7  (-448.917, 7547.333]  (-847.232, 10792.0]  (-851.96, 11653.0]  \n",
      "8  (-448.917, 7547.333]  (-847.232, 10792.0]  (-851.96, 11653.0]  \n",
      "9  (-448.917, 7547.333]  (-847.232, 10792.0]  (-851.96, 11653.0]  \n"
     ]
    }
   ],
   "source": [
    "for dataset in train_test_data:\n",
    "    dataset.loc[ dataset['VRDeck'] <= 10802, 'VRDeck'] = 0\n",
    "    dataset.loc[dataset['VRDeck'] > 10802 , 'VRDeck'] = 1\n",
    "print(train.head(10))"
   ]
  },
  {
   "cell_type": "markdown",
   "id": "d2541ca4",
   "metadata": {
    "papermill": {
     "duration": 0.009004,
     "end_time": "2023-11-18T11:08:16.344366",
     "exception": false,
     "start_time": "2023-11-18T11:08:16.335362",
     "status": "completed"
    },
    "tags": []
   },
   "source": [
    "**Cabin fix**"
   ]
  },
  {
   "cell_type": "code",
   "execution_count": 32,
   "id": "2ccf954c",
   "metadata": {
    "execution": {
     "iopub.execute_input": "2023-11-18T11:08:16.363359Z",
     "iopub.status.busy": "2023-11-18T11:08:16.363359Z",
     "iopub.status.idle": "2023-11-18T11:08:16.371487Z",
     "shell.execute_reply": "2023-11-18T11:08:16.370985Z"
    },
    "papermill": {
     "duration": 0.019133,
     "end_time": "2023-11-18T11:08:16.372497",
     "exception": false,
     "start_time": "2023-11-18T11:08:16.353364",
     "status": "completed"
    },
    "tags": []
   },
   "outputs": [],
   "source": [
    "for dataset in train_test_data:\n",
    "    dataset.dropna(subset=['Cabin'],inplace=True)"
   ]
  },
  {
   "cell_type": "markdown",
   "id": "aaf7a51d",
   "metadata": {
    "papermill": {
     "duration": 0.009002,
     "end_time": "2023-11-18T11:08:16.390503",
     "exception": false,
     "start_time": "2023-11-18T11:08:16.381501",
     "status": "completed"
    },
    "tags": []
   },
   "source": [
    "**New features with Cabin**"
   ]
  },
  {
   "cell_type": "code",
   "execution_count": 33,
   "id": "81ddfcec",
   "metadata": {
    "execution": {
     "iopub.execute_input": "2023-11-18T11:08:16.410498Z",
     "iopub.status.busy": "2023-11-18T11:08:16.410498Z",
     "iopub.status.idle": "2023-11-18T11:08:16.431004Z",
     "shell.execute_reply": "2023-11-18T11:08:16.431004Z"
    },
    "papermill": {
     "duration": 0.032501,
     "end_time": "2023-11-18T11:08:16.432006",
     "exception": false,
     "start_time": "2023-11-18T11:08:16.399505",
     "status": "completed"
    },
    "tags": []
   },
   "outputs": [
    {
     "name": "stdout",
     "output_type": "stream",
     "text": [
      "  PassengerId  HomePlanet  CryoSleep  Cabin  Destination  Age    VIP  \\\n",
      "0     0001_01           1      False  B/0/P            2    2  False   \n",
      "1     0002_01           0      False  F/0/S            2    1  False   \n",
      "2     0003_01           1      False  A/0/S            2    3   True   \n",
      "3     0003_02           1      False  A/0/S            2    2  False   \n",
      "4     0004_01           0      False  F/1/S            2    0  False   \n",
      "5     0005_01           0      False  F/0/P            1    2  False   \n",
      "6     0006_01           0      False  F/2/S            2    1  False   \n",
      "7     0006_02           0       True  G/0/S            2    1  False   \n",
      "8     0007_01           0      False  F/3/S            2    2  False   \n",
      "9     0008_01           1       True  B/1/P            0    0  False   \n",
      "\n",
      "   RoomService  FoodCourt  ShoppingMall  ...  Transported         AgeBand  \\\n",
      "0            0          0             0  ...        False    (31.6, 47.4]   \n",
      "1            0          0             0  ...         True    (15.8, 31.6]   \n",
      "2            0          0             0  ...        False    (47.4, 63.2]   \n",
      "3            0          0             0  ...        False    (31.6, 47.4]   \n",
      "4            0          0             0  ...         True    (15.8, 31.6]   \n",
      "5            0          0             0  ...         True    (31.6, 47.4]   \n",
      "6            0          0             0  ...         True    (15.8, 31.6]   \n",
      "7            0          0             0  ...         True    (15.8, 31.6]   \n",
      "8            0          0             0  ...         True    (31.6, 47.4]   \n",
      "9            0          0             0  ...         True  (-0.079, 15.8]   \n",
      "\n",
      "      RoomServiceBand        FoodCourtBand      ShoppingMallBand  \\\n",
      "0  (-441.754, 6950.0]  (-1163.946, 6603.5]  (-448.917, 7547.333]   \n",
      "1  (-441.754, 6950.0]  (-1163.946, 6603.5]  (-448.917, 7547.333]   \n",
      "2  (-441.754, 6950.0]  (-1163.946, 6603.5]  (-448.917, 7547.333]   \n",
      "3  (-441.754, 6950.0]  (-1163.946, 6603.5]  (-448.917, 7547.333]   \n",
      "4  (-441.754, 6950.0]  (-1163.946, 6603.5]  (-448.917, 7547.333]   \n",
      "5  (-441.754, 6950.0]  (-1163.946, 6603.5]  (-448.917, 7547.333]   \n",
      "6  (-441.754, 6950.0]  (-1163.946, 6603.5]  (-448.917, 7547.333]   \n",
      "7  (-441.754, 6950.0]  (-1163.946, 6603.5]  (-448.917, 7547.333]   \n",
      "8  (-441.754, 6950.0]  (-1163.946, 6603.5]  (-448.917, 7547.333]   \n",
      "9  (-441.754, 6950.0]  (-1163.946, 6603.5]  (-448.917, 7547.333]   \n",
      "\n",
      "               SpaBand          VRDeckBand CabinFirst CabinSecond CabinThird  \n",
      "0  (-847.232, 10792.0]  (-851.96, 11653.0]          B           0          P  \n",
      "1  (-847.232, 10792.0]  (-851.96, 11653.0]          F           0          S  \n",
      "2  (-847.232, 10792.0]  (-851.96, 11653.0]          A           0          S  \n",
      "3  (-847.232, 10792.0]  (-851.96, 11653.0]          A           0          S  \n",
      "4  (-847.232, 10792.0]  (-851.96, 11653.0]          F           1          S  \n",
      "5  (-847.232, 10792.0]  (-851.96, 11653.0]          F           0          P  \n",
      "6  (-847.232, 10792.0]  (-851.96, 11653.0]          F           2          S  \n",
      "7  (-847.232, 10792.0]  (-851.96, 11653.0]          G           0          S  \n",
      "8  (-847.232, 10792.0]  (-851.96, 11653.0]          F           3          S  \n",
      "9  (-847.232, 10792.0]  (-851.96, 11653.0]          B           1          P  \n",
      "\n",
      "[10 rows x 23 columns]\n"
     ]
    }
   ],
   "source": [
    "new_features = train['Cabin'].str.split('/', expand=True)\n",
    "new_features.columns = ['CabinFirst', 'CabinSecond', 'CabinThird']\n",
    "train = pd.concat([train, new_features], axis=1)\n",
    "new_features = test['Cabin'].str.split('/', expand=True)\n",
    "new_features.columns = ['CabinFirst', 'CabinSecond', 'CabinThird']\n",
    "test = pd.concat([test, new_features], axis=1)\n",
    "print(train.head(10))"
   ]
  },
  {
   "cell_type": "code",
   "execution_count": 34,
   "id": "f151c3ff",
   "metadata": {
    "execution": {
     "iopub.execute_input": "2023-11-18T11:08:16.452021Z",
     "iopub.status.busy": "2023-11-18T11:08:16.452021Z",
     "iopub.status.idle": "2023-11-18T11:08:16.459869Z",
     "shell.execute_reply": "2023-11-18T11:08:16.459869Z"
    },
    "papermill": {
     "duration": 0.018843,
     "end_time": "2023-11-18T11:08:16.460862",
     "exception": false,
     "start_time": "2023-11-18T11:08:16.442019",
     "status": "completed"
    },
    "tags": []
   },
   "outputs": [
    {
     "name": "stdout",
     "output_type": "stream",
     "text": [
      "CabinFirst  Transported\n",
      "A           False           129\n",
      "            True            127\n",
      "B           True            572\n",
      "            False           207\n",
      "C           True            508\n",
      "            False           239\n",
      "D           False           271\n",
      "            True            207\n",
      "E           False           563\n",
      "            True            313\n",
      "F           False          1565\n",
      "            True           1229\n",
      "G           True           1321\n",
      "            False          1238\n",
      "T           False             4\n",
      "            True              1\n",
      "Name: count, dtype: int64\n"
     ]
    }
   ],
   "source": [
    "print(train.groupby('CabinFirst').Transported.value_counts())\n",
    "train[['CabinFirst', 'Transported']].groupby('CabinFirst', as_index = False).mean()\n",
    "train_test_data = [train,test]"
   ]
  },
  {
   "cell_type": "code",
   "execution_count": 35,
   "id": "10761c5f",
   "metadata": {
    "execution": {
     "iopub.execute_input": "2023-11-18T11:08:16.481867Z",
     "iopub.status.busy": "2023-11-18T11:08:16.480869Z",
     "iopub.status.idle": "2023-11-18T11:08:16.486144Z",
     "shell.execute_reply": "2023-11-18T11:08:16.486144Z"
    },
    "papermill": {
     "duration": 0.016272,
     "end_time": "2023-11-18T11:08:16.487146",
     "exception": false,
     "start_time": "2023-11-18T11:08:16.470874",
     "status": "completed"
    },
    "tags": []
   },
   "outputs": [],
   "source": [
    "for dataset in train_test_data:\n",
    "    dataset['CabinFirst'] = dataset['CabinFirst'].map( {'A': 0, 'B': 1, 'C': 2, 'D': 3, 'E': 4, 'F': 5, 'G': 6, 'T': 7} ).astype(int)"
   ]
  },
  {
   "cell_type": "code",
   "execution_count": 36,
   "id": "5dcf0d4e",
   "metadata": {
    "execution": {
     "iopub.execute_input": "2023-11-18T11:08:16.507160Z",
     "iopub.status.busy": "2023-11-18T11:08:16.507160Z",
     "iopub.status.idle": "2023-11-18T11:08:16.517713Z",
     "shell.execute_reply": "2023-11-18T11:08:16.517713Z"
    },
    "papermill": {
     "duration": 0.022548,
     "end_time": "2023-11-18T11:08:16.519726",
     "exception": false,
     "start_time": "2023-11-18T11:08:16.497178",
     "status": "completed"
    },
    "tags": []
   },
   "outputs": [
    {
     "name": "stdout",
     "output_type": "stream",
     "text": [
      "CabinThird  Transported\n",
      "P           False          2308\n",
      "            True           1898\n",
      "S           True           2380\n",
      "            False          1908\n",
      "Name: count, dtype: int64\n"
     ]
    },
    {
     "data": {
      "text/html": [
       "<div>\n",
       "<style scoped>\n",
       "    .dataframe tbody tr th:only-of-type {\n",
       "        vertical-align: middle;\n",
       "    }\n",
       "\n",
       "    .dataframe tbody tr th {\n",
       "        vertical-align: top;\n",
       "    }\n",
       "\n",
       "    .dataframe thead th {\n",
       "        text-align: right;\n",
       "    }\n",
       "</style>\n",
       "<table border=\"1\" class=\"dataframe\">\n",
       "  <thead>\n",
       "    <tr style=\"text-align: right;\">\n",
       "      <th></th>\n",
       "      <th>CabinThird</th>\n",
       "      <th>Transported</th>\n",
       "    </tr>\n",
       "  </thead>\n",
       "  <tbody>\n",
       "    <tr>\n",
       "      <th>0</th>\n",
       "      <td>P</td>\n",
       "      <td>0.451260</td>\n",
       "    </tr>\n",
       "    <tr>\n",
       "      <th>1</th>\n",
       "      <td>S</td>\n",
       "      <td>0.555037</td>\n",
       "    </tr>\n",
       "  </tbody>\n",
       "</table>\n",
       "</div>"
      ],
      "text/plain": [
       "  CabinThird  Transported\n",
       "0          P     0.451260\n",
       "1          S     0.555037"
      ]
     },
     "execution_count": 36,
     "metadata": {},
     "output_type": "execute_result"
    }
   ],
   "source": [
    "print(train.groupby('CabinThird').Transported.value_counts())\n",
    "train[['CabinThird', 'Transported']].groupby('CabinThird', as_index = False).mean()"
   ]
  },
  {
   "cell_type": "code",
   "execution_count": 37,
   "id": "46b8a2e8",
   "metadata": {
    "execution": {
     "iopub.execute_input": "2023-11-18T11:08:16.540731Z",
     "iopub.status.busy": "2023-11-18T11:08:16.539721Z",
     "iopub.status.idle": "2023-11-18T11:08:16.544425Z",
     "shell.execute_reply": "2023-11-18T11:08:16.544425Z"
    },
    "papermill": {
     "duration": 0.016707,
     "end_time": "2023-11-18T11:08:16.545435",
     "exception": false,
     "start_time": "2023-11-18T11:08:16.528728",
     "status": "completed"
    },
    "tags": []
   },
   "outputs": [],
   "source": [
    "for dataset in train_test_data:\n",
    "    dataset['CabinThird'] = dataset['CabinThird'].map({'P': 0, 'S': 1}).astype(int)"
   ]
  },
  {
   "cell_type": "code",
   "execution_count": 38,
   "id": "f7d74345",
   "metadata": {
    "execution": {
     "iopub.execute_input": "2023-11-18T11:08:16.566443Z",
     "iopub.status.busy": "2023-11-18T11:08:16.566443Z",
     "iopub.status.idle": "2023-11-18T11:08:16.580623Z",
     "shell.execute_reply": "2023-11-18T11:08:16.580623Z"
    },
    "papermill": {
     "duration": 0.026176,
     "end_time": "2023-11-18T11:08:16.581636",
     "exception": false,
     "start_time": "2023-11-18T11:08:16.555460",
     "status": "completed"
    },
    "tags": []
   },
   "outputs": [
    {
     "name": "stdout",
     "output_type": "stream",
     "text": [
      "        CabinSecondBand  Transported\n",
      "0     (-1.894, 270.571]     0.540055\n",
      "1    (270.571, 541.143]     0.429142\n",
      "2    (541.143, 811.714]     0.495248\n",
      "3   (811.714, 1082.286]     0.625546\n",
      "4  (1082.286, 1352.857]     0.485816\n",
      "5  (1352.857, 1623.429]     0.400929\n",
      "6    (1623.429, 1894.0]     0.419263\n"
     ]
    },
    {
     "name": "stderr",
     "output_type": "stream",
     "text": [
      "C:\\Users\\zhest\\AppData\\Local\\Temp\\ipykernel_4784\\2756675656.py:8: SettingWithCopyWarning: \n",
      "A value is trying to be set on a copy of a slice from a DataFrame\n",
      "\n",
      "See the caveats in the documentation: https://pandas.pydata.org/pandas-docs/stable/user_guide/indexing.html#returning-a-view-versus-a-copy\n",
      "  dataset['CabinSecond'][np.isnan(dataset['CabinSecond'])] = cabin_null_random_list\n",
      "C:\\Users\\zhest\\AppData\\Local\\Temp\\ipykernel_4784\\2756675656.py:8: SettingWithCopyWarning: \n",
      "A value is trying to be set on a copy of a slice from a DataFrame\n",
      "\n",
      "See the caveats in the documentation: https://pandas.pydata.org/pandas-docs/stable/user_guide/indexing.html#returning-a-view-versus-a-copy\n",
      "  dataset['CabinSecond'][np.isnan(dataset['CabinSecond'])] = cabin_null_random_list\n",
      "C:\\Users\\zhest\\AppData\\Local\\Temp\\ipykernel_4784\\2756675656.py:14: FutureWarning: The default of observed=False is deprecated and will be changed to True in a future version of pandas. Pass observed=False to retain current behavior or observed=True to adopt the future default and silence this warning.\n",
      "  print (train[['CabinSecondBand', 'Transported']].groupby(['CabinSecondBand'], as_index=False).mean())\n"
     ]
    }
   ],
   "source": [
    "for dataset in train_test_data:\n",
    "    dataset['CabinSecond'] = dataset['CabinSecond'].astype(int)\n",
    "    cabin_avg = dataset['CabinSecond'].mean()\n",
    "    cabin_std = dataset['CabinSecond'].std()\n",
    "    cabin_null_count = dataset['CabinSecond'].isnull().sum()\n",
    "    \n",
    "    cabin_null_random_list = np.random.randint(cabin_avg - cabin_std, cabin_avg + cabin_std, size=cabin_null_count)\n",
    "    dataset['CabinSecond'][np.isnan(dataset['CabinSecond'])] = cabin_null_random_list\n",
    "    dataset['CabinSecond'] = dataset['CabinSecond'].astype(int)\n",
    "\n",
    "for dataset in train_test_data:\n",
    "    dataset['CabinSecondBand'] = pd.cut(train['CabinSecond'], 7)\n",
    "\n",
    "print (train[['CabinSecondBand', 'Transported']].groupby(['CabinSecondBand'], as_index=False).mean())"
   ]
  },
  {
   "cell_type": "code",
   "execution_count": 39,
   "id": "3732c2f5",
   "metadata": {
    "execution": {
     "iopub.execute_input": "2023-11-18T11:08:16.602640Z",
     "iopub.status.busy": "2023-11-18T11:08:16.602640Z",
     "iopub.status.idle": "2023-11-18T11:08:16.616484Z",
     "shell.execute_reply": "2023-11-18T11:08:16.616484Z"
    },
    "papermill": {
     "duration": 0.025858,
     "end_time": "2023-11-18T11:08:16.617496",
     "exception": false,
     "start_time": "2023-11-18T11:08:16.591638",
     "status": "completed"
    },
    "tags": []
   },
   "outputs": [
    {
     "name": "stdout",
     "output_type": "stream",
     "text": [
      "  PassengerId  HomePlanet  CryoSleep  Cabin  Destination  Age    VIP  \\\n",
      "0     0001_01           1      False  B/0/P            2    2  False   \n",
      "1     0002_01           0      False  F/0/S            2    1  False   \n",
      "2     0003_01           1      False  A/0/S            2    3   True   \n",
      "3     0003_02           1      False  A/0/S            2    2  False   \n",
      "4     0004_01           0      False  F/1/S            2    0  False   \n",
      "5     0005_01           0      False  F/0/P            1    2  False   \n",
      "6     0006_01           0      False  F/2/S            2    1  False   \n",
      "7     0006_02           0       True  G/0/S            2    1  False   \n",
      "8     0007_01           0      False  F/3/S            2    2  False   \n",
      "9     0008_01           1       True  B/1/P            0    0  False   \n",
      "\n",
      "   RoomService  FoodCourt  ShoppingMall  ...         AgeBand  \\\n",
      "0            0          0             0  ...    (31.6, 47.4]   \n",
      "1            0          0             0  ...    (15.8, 31.6]   \n",
      "2            0          0             0  ...    (47.4, 63.2]   \n",
      "3            0          0             0  ...    (31.6, 47.4]   \n",
      "4            0          0             0  ...    (15.8, 31.6]   \n",
      "5            0          0             0  ...    (31.6, 47.4]   \n",
      "6            0          0             0  ...    (15.8, 31.6]   \n",
      "7            0          0             0  ...    (15.8, 31.6]   \n",
      "8            0          0             0  ...    (31.6, 47.4]   \n",
      "9            0          0             0  ...  (-0.079, 15.8]   \n",
      "\n",
      "      RoomServiceBand        FoodCourtBand      ShoppingMallBand  \\\n",
      "0  (-441.754, 6950.0]  (-1163.946, 6603.5]  (-448.917, 7547.333]   \n",
      "1  (-441.754, 6950.0]  (-1163.946, 6603.5]  (-448.917, 7547.333]   \n",
      "2  (-441.754, 6950.0]  (-1163.946, 6603.5]  (-448.917, 7547.333]   \n",
      "3  (-441.754, 6950.0]  (-1163.946, 6603.5]  (-448.917, 7547.333]   \n",
      "4  (-441.754, 6950.0]  (-1163.946, 6603.5]  (-448.917, 7547.333]   \n",
      "5  (-441.754, 6950.0]  (-1163.946, 6603.5]  (-448.917, 7547.333]   \n",
      "6  (-441.754, 6950.0]  (-1163.946, 6603.5]  (-448.917, 7547.333]   \n",
      "7  (-441.754, 6950.0]  (-1163.946, 6603.5]  (-448.917, 7547.333]   \n",
      "8  (-441.754, 6950.0]  (-1163.946, 6603.5]  (-448.917, 7547.333]   \n",
      "9  (-441.754, 6950.0]  (-1163.946, 6603.5]  (-448.917, 7547.333]   \n",
      "\n",
      "               SpaBand          VRDeckBand CabinFirst CabinSecond CabinThird  \\\n",
      "0  (-847.232, 10792.0]  (-851.96, 11653.0]          1           0          0   \n",
      "1  (-847.232, 10792.0]  (-851.96, 11653.0]          5           0          1   \n",
      "2  (-847.232, 10792.0]  (-851.96, 11653.0]          0           0          1   \n",
      "3  (-847.232, 10792.0]  (-851.96, 11653.0]          0           0          1   \n",
      "4  (-847.232, 10792.0]  (-851.96, 11653.0]          5           0          1   \n",
      "5  (-847.232, 10792.0]  (-851.96, 11653.0]          5           0          0   \n",
      "6  (-847.232, 10792.0]  (-851.96, 11653.0]          5           0          1   \n",
      "7  (-847.232, 10792.0]  (-851.96, 11653.0]          6           0          1   \n",
      "8  (-847.232, 10792.0]  (-851.96, 11653.0]          5           0          1   \n",
      "9  (-847.232, 10792.0]  (-851.96, 11653.0]          1           0          0   \n",
      "\n",
      "     CabinSecondBand  \n",
      "0  (-1.894, 270.571]  \n",
      "1  (-1.894, 270.571]  \n",
      "2  (-1.894, 270.571]  \n",
      "3  (-1.894, 270.571]  \n",
      "4  (-1.894, 270.571]  \n",
      "5  (-1.894, 270.571]  \n",
      "6  (-1.894, 270.571]  \n",
      "7  (-1.894, 270.571]  \n",
      "8  (-1.894, 270.571]  \n",
      "9  (-1.894, 270.571]  \n",
      "\n",
      "[10 rows x 24 columns]\n"
     ]
    }
   ],
   "source": [
    "for dataset in train_test_data:\n",
    "    dataset.loc[ dataset['CabinSecond'] <= 271, 'CabinSecond'] = 0\n",
    "    dataset.loc[(dataset['CabinSecond'] > 271) & (dataset['CabinSecond'] <= 542), 'CabinSecond'] = 1\n",
    "    dataset.loc[(dataset['CabinSecond'] > 542) & (dataset['CabinSecond'] <= 812), 'CabinSecond'] = 2\n",
    "    dataset.loc[(dataset['CabinSecond'] > 812) & (dataset['CabinSecond'] <= 1083), 'CabinSecond'] = 3\n",
    "    dataset.loc[(dataset['CabinSecond'] > 1083) & (dataset['CabinSecond'] <= 1353), 'CabinSecond'] = 4\n",
    "    dataset.loc[(dataset['CabinSecond'] > 1353) & (dataset['CabinSecond'] <= 1624), 'CabinSecond'] = 5\n",
    "    dataset.loc[ dataset['CabinSecond'] > 1624, 'CabinSecond'] = 6\n",
    "print(train.head(10))"
   ]
  },
  {
   "cell_type": "markdown",
   "id": "f7ee61e5",
   "metadata": {
    "papermill": {
     "duration": 0.019,
     "end_time": "2023-11-18T11:08:16.646500",
     "exception": false,
     "start_time": "2023-11-18T11:08:16.627500",
     "status": "completed"
    },
    "tags": []
   },
   "source": [
    "**New features with Name**"
   ]
  },
  {
   "cell_type": "markdown",
   "id": "c47cc605",
   "metadata": {
    "papermill": {
     "duration": 0.010006,
     "end_time": "2023-11-18T11:08:16.666508",
     "exception": false,
     "start_time": "2023-11-18T11:08:16.656502",
     "status": "completed"
    },
    "tags": []
   },
   "source": [
    "Features correlation"
   ]
  },
  {
   "cell_type": "code",
   "execution_count": 40,
   "id": "57a2394a",
   "metadata": {
    "execution": {
     "iopub.execute_input": "2023-11-18T11:08:16.687132Z",
     "iopub.status.busy": "2023-11-18T11:08:16.687132Z",
     "iopub.status.idle": "2023-11-18T11:08:17.390096Z",
     "shell.execute_reply": "2023-11-18T11:08:17.390096Z"
    },
    "papermill": {
     "duration": 0.715972,
     "end_time": "2023-11-18T11:08:17.392098",
     "exception": false,
     "start_time": "2023-11-18T11:08:16.676126",
     "status": "completed"
    },
    "tags": []
   },
   "outputs": [
    {
     "data": {
      "image/png": "[encoded data removed]",
      "text/plain": [
       "<Figure size 1500x600 with 2 Axes>"
      ]
     },
     "metadata": {},
     "output_type": "display_data"
    }
   ],
   "source": [
    "features_drop = ['Name', 'AgeBand', 'Cabin', 'RoomServiceBand', 'FoodCourtBand', 'ShoppingMallBand', 'SpaBand', 'VRDeckBand', 'CabinSecondBand', 'Cabin']\n",
    "train = train.drop(features_drop, axis=1)\n",
    "test = test.drop(features_drop, axis=1)\n",
    "corr_matrix = train.corr()\n",
    "plt.figure(figsize=(15, 6))\n",
    "sns.heatmap(corr_matrix, vmax=0.45, square=True, annot=True)\n",
    "train.to_csv('data/trainProcessed.csv')\n",
    "test.to_csv('data/testProcessed.csv')"
   ]
  }
 ],
 "metadata": {
  "kernelspec": {
   "display_name": "Python 3 (ipykernel)",
   "language": "python",
   "name": "python3"
  },
  "language_info": {
   "codemirror_mode": {
    "name": "ipython",
    "version": 3
   },
   "file_extension": ".py",
   "mimetype": "text/x-python",
   "name": "python",
   "nbconvert_exporter": "python",
   "pygments_lexer": "ipython3",
   "version": "3.11.5"
  },
  "papermill": {
   "default_parameters": {},
   "duration": 5.200838,
   "end_time": "2023-11-18T11:08:17.753274",
   "environment_variables": {},
   "exception": null,
   "input_path": "C:\\Users\\zhest\\PycharmProjects\\classwork\\spaceshiptitanic.ipynb",
   "output_path": "C:\\Users\\zhest\\PycharmProjects\\classwork\\spaceshiptitanic.ipynb",
   "parameters": {},
   "start_time": "2023-11-18T11:08:12.552436",
   "version": "2.4.0"
  }
 },
 "nbformat": 4,
 "nbformat_minor": 5
}
